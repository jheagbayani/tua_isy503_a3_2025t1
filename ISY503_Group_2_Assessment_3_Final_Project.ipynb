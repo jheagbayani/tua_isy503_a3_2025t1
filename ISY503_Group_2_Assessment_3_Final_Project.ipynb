{
  "cells": [
    {
      "cell_type": "markdown",
      "metadata": {
        "id": "view-in-github",
        "colab_type": "text"
      },
      "source": [
        "<a href=\"https://colab.research.google.com/github/jheagbayani/tua_isy503_a3_2025t1/blob/main/ISY503_Group_2_Assessment_3_Final_Project.ipynb\" target=\"_parent\"><img src=\"https://colab.research.google.com/assets/colab-badge.svg\" alt=\"Open In Colab\"/></a>"
      ]
    },
    {
      "cell_type": "markdown",
      "metadata": {
        "id": "tj35Jcpoupjh"
      },
      "source": [
        "# ISY503 Intelligent Systems - Assessment 3\n",
        "Group 2:\n",
        "- Jay-ar Anacleto Agbayani | A00120503\n",
        "- Archkymuel Ilao Bautista | 00116734\n",
        "- Nguyen Bui | A00128444\n",
        "- Hoang Tuan Ngo | A00094718"
      ]
    },
    {
      "cell_type": "markdown",
      "metadata": {
        "id": "NkDYP0Amupjh"
      },
      "source": [
        "## 0. Configuration Flags\n",
        "\n",
        "Set flags here to control notebook behavior, like loading a pre-trained model."
      ]
    },
    {
      "cell_type": "code",
      "execution_count": null,
      "metadata": {
        "id": "QPnB9peUby2I"
      },
      "outputs": [],
      "source": [
        "from importlib import reload"
      ]
    },
    {
      "cell_type": "code",
      "execution_count": null,
      "metadata": {
        "colab": {
          "base_uri": "https://localhost:8080/"
        },
        "id": "lKo2F7mzupjh",
        "outputId": "eb8bd579-77c9-492b-889c-e71694f77e5c"
      },
      "outputs": [
        {
          "name": "stdout",
          "output_type": "stream",
          "text": [
            "Overwriting configs.py\n"
          ]
        }
      ],
      "source": [
        "%%writefile configs.py\n",
        "\n",
        "# Set to True to skip data loading, preprocessing, tuning, and training,\n",
        "# and instead load a previously saved model and tokenizer.\n",
        "# Ensure 'final_best_sentiment_model.h5', 'tokenizer.pkl',\n",
        "# and 'model_params.json' exist in the root directory.\n",
        "LOAD_PRETRAINED_MODEL = True\n",
        "\n",
        "# Preprocessing flags (used if LOAD_PRETRAINED_MODEL is False)\n",
        "# These MUST match the settings used when the pre-trained model was saved if loading.\n",
        "APPLY_SPELLING_CORRECTION = True # Set based on whether sym_spell will be available/used\n",
        "HANDLE_NEGATION_TOKENS = True    # Combine 'not', 'good' -> 'not_good' etc.\n",
        "REMOVE_STOPWORDS = True         # Remove stopwords (negations are kept by default)\n",
        "APPLY_LEMMATIZATION = True      # Lemmatize words\n",
        "\n",
        "# Paths for saving/loading model components\n",
        "SAVED_MODEL_PATH = 'final_best_sentiment_model--TRUE_TRUE.h5'\n",
        "SAVED_TOKENIZER_PATH = 'tokenizer--TRUE_TRUE.pkl'\n",
        "SAVED_PARAMS_PATH = 'model_params--TRUE_TRUE.json' # For max_length and vocab_size\n",
        "\n",
        "PROJECT_NAME = 'sentiment_tuning--TRUE_TRUE'"
      ]
    },
    {
      "cell_type": "markdown",
      "metadata": {
        "id": "fV138fecupji"
      },
      "source": [
        "## 1. Setup and Data Acquisition\n",
        "\n",
        "This section imports necessary libraries, installs required packages, downloads the dataset and supporting files (like spelling dictionary), and extracts the data."
      ]
    },
    {
      "cell_type": "code",
      "execution_count": null,
      "metadata": {
        "colab": {
          "base_uri": "https://localhost:8080/"
        },
        "id": "rve6OqygPHcL",
        "outputId": "77c74fd4-1816-4377-9889-bed0c2898364"
      },
      "outputs": [
        {
          "name": "stdout",
          "output_type": "stream",
          "text": [
            "\n",
            "\u001b[1m[\u001b[0m\u001b[34;49mnotice\u001b[0m\u001b[1;39;49m]\u001b[0m\u001b[39;49m A new release of pip is available: \u001b[0m\u001b[31;49m24.3.1\u001b[0m\u001b[39;49m -> \u001b[0m\u001b[32;49m25.1.1\u001b[0m\n",
            "\u001b[1m[\u001b[0m\u001b[34;49mnotice\u001b[0m\u001b[1;39;49m]\u001b[0m\u001b[39;49m To update, run: \u001b[0m\u001b[32;49mpip install --upgrade pip\u001b[0m\n",
            "\n",
            "\u001b[1m[\u001b[0m\u001b[34;49mnotice\u001b[0m\u001b[1;39;49m]\u001b[0m\u001b[39;49m A new release of pip is available: \u001b[0m\u001b[31;49m24.3.1\u001b[0m\u001b[39;49m -> \u001b[0m\u001b[32;49m25.1.1\u001b[0m\n",
            "\u001b[1m[\u001b[0m\u001b[34;49mnotice\u001b[0m\u001b[1;39;49m]\u001b[0m\u001b[39;49m To update, run: \u001b[0m\u001b[32;49mpip install --upgrade pip\u001b[0m\n",
            "\u001b[1G\u001b[0K⠙\u001b[1G\u001b[0K⠹\u001b[1G\u001b[0K⠸\u001b[1G\u001b[0K⠼\u001b[1G\u001b[0K\n",
            "up to date, audited 23 packages in 519ms\n",
            "\u001b[1G\u001b[0K⠼\u001b[1G\u001b[0K\n",
            "\u001b[1G\u001b[0K⠼\u001b[1G\u001b[0K3 packages are looking for funding\n",
            "\u001b[1G\u001b[0K⠼\u001b[1G\u001b[0K  run `npm fund` for details\n",
            "\u001b[1G\u001b[0K⠼\u001b[1G\u001b[0K\n",
            "2 \u001b[31m\u001b[1mhigh\u001b[22m\u001b[39m severity vulnerabilities\n",
            "\n",
            "To address all issues (including breaking changes), run:\n",
            "  npm audit fix --force\n",
            "\n",
            "Run `npm audit` for details.\n",
            "\u001b[1G\u001b[0K⠼\u001b[1G\u001b[0K\n",
            "\u001b[1m[\u001b[0m\u001b[34;49mnotice\u001b[0m\u001b[1;39;49m]\u001b[0m\u001b[39;49m A new release of pip is available: \u001b[0m\u001b[31;49m24.3.1\u001b[0m\u001b[39;49m -> \u001b[0m\u001b[32;49m25.1.1\u001b[0m\n",
            "\u001b[1m[\u001b[0m\u001b[34;49mnotice\u001b[0m\u001b[1;39;49m]\u001b[0m\u001b[39;49m To update, run: \u001b[0m\u001b[32;49mpip install --upgrade pip\u001b[0m\n",
            "\n",
            "\u001b[1m[\u001b[0m\u001b[34;49mnotice\u001b[0m\u001b[1;39;49m]\u001b[0m\u001b[39;49m A new release of pip is available: \u001b[0m\u001b[31;49m24.3.1\u001b[0m\u001b[39;49m -> \u001b[0m\u001b[32;49m25.1.1\u001b[0m\n",
            "\u001b[1m[\u001b[0m\u001b[34;49mnotice\u001b[0m\u001b[1;39;49m]\u001b[0m\u001b[39;49m To update, run: \u001b[0m\u001b[32;49mpip install --upgrade pip\u001b[0m\n",
            "\n",
            "\u001b[1m[\u001b[0m\u001b[34;49mnotice\u001b[0m\u001b[1;39;49m]\u001b[0m\u001b[39;49m A new release of pip is available: \u001b[0m\u001b[31;49m24.3.1\u001b[0m\u001b[39;49m -> \u001b[0m\u001b[32;49m25.1.1\u001b[0m\n",
            "\u001b[1m[\u001b[0m\u001b[34;49mnotice\u001b[0m\u001b[1;39;49m]\u001b[0m\u001b[39;49m To update, run: \u001b[0m\u001b[32;49mpip install --upgrade pip\u001b[0m\n",
            "\n",
            "\u001b[1m[\u001b[0m\u001b[34;49mnotice\u001b[0m\u001b[1;39;49m]\u001b[0m\u001b[39;49m A new release of pip is available: \u001b[0m\u001b[31;49m24.3.1\u001b[0m\u001b[39;49m -> \u001b[0m\u001b[32;49m25.1.1\u001b[0m\n",
            "\u001b[1m[\u001b[0m\u001b[34;49mnotice\u001b[0m\u001b[1;39;49m]\u001b[0m\u001b[39;49m To update, run: \u001b[0m\u001b[32;49mpip install --upgrade pip\u001b[0m\n",
            "\n",
            "\u001b[1m[\u001b[0m\u001b[34;49mnotice\u001b[0m\u001b[1;39;49m]\u001b[0m\u001b[39;49m A new release of pip is available: \u001b[0m\u001b[31;49m24.3.1\u001b[0m\u001b[39;49m -> \u001b[0m\u001b[32;49m25.1.1\u001b[0m\n",
            "\u001b[1m[\u001b[0m\u001b[34;49mnotice\u001b[0m\u001b[1;39;49m]\u001b[0m\u001b[39;49m To update, run: \u001b[0m\u001b[32;49mpip install --upgrade pip\u001b[0m\n",
            "\n",
            "\u001b[1m[\u001b[0m\u001b[34;49mnotice\u001b[0m\u001b[1;39;49m]\u001b[0m\u001b[39;49m A new release of pip is available: \u001b[0m\u001b[31;49m24.3.1\u001b[0m\u001b[39;49m -> \u001b[0m\u001b[32;49m25.1.1\u001b[0m\n",
            "\u001b[1m[\u001b[0m\u001b[34;49mnotice\u001b[0m\u001b[1;39;49m]\u001b[0m\u001b[39;49m To update, run: \u001b[0m\u001b[32;49mpip install --upgrade pip\u001b[0m\n",
            "\n",
            "\u001b[1m[\u001b[0m\u001b[34;49mnotice\u001b[0m\u001b[1;39;49m]\u001b[0m\u001b[39;49m A new release of pip is available: \u001b[0m\u001b[31;49m24.3.1\u001b[0m\u001b[39;49m -> \u001b[0m\u001b[32;49m25.1.1\u001b[0m\n",
            "\u001b[1m[\u001b[0m\u001b[34;49mnotice\u001b[0m\u001b[1;39;49m]\u001b[0m\u001b[39;49m To update, run: \u001b[0m\u001b[32;49mpip install --upgrade pip\u001b[0m\n",
            "\n",
            "\u001b[1m[\u001b[0m\u001b[34;49mnotice\u001b[0m\u001b[1;39;49m]\u001b[0m\u001b[39;49m A new release of pip is available: \u001b[0m\u001b[31;49m24.3.1\u001b[0m\u001b[39;49m -> \u001b[0m\u001b[32;49m25.1.1\u001b[0m\n",
            "\u001b[1m[\u001b[0m\u001b[34;49mnotice\u001b[0m\u001b[1;39;49m]\u001b[0m\u001b[39;49m To update, run: \u001b[0m\u001b[32;49mpip install --upgrade pip\u001b[0m\n",
            "\n",
            "\u001b[1m[\u001b[0m\u001b[34;49mnotice\u001b[0m\u001b[1;39;49m]\u001b[0m\u001b[39;49m A new release of pip is available: \u001b[0m\u001b[31;49m24.3.1\u001b[0m\u001b[39;49m -> \u001b[0m\u001b[32;49m25.1.1\u001b[0m\n",
            "\u001b[1m[\u001b[0m\u001b[34;49mnotice\u001b[0m\u001b[1;39;49m]\u001b[0m\u001b[39;49m To update, run: \u001b[0m\u001b[32;49mpip install --upgrade pip\u001b[0m\n",
            "\n",
            "\u001b[1m[\u001b[0m\u001b[34;49mnotice\u001b[0m\u001b[1;39;49m]\u001b[0m\u001b[39;49m A new release of pip is available: \u001b[0m\u001b[31;49m24.3.1\u001b[0m\u001b[39;49m -> \u001b[0m\u001b[32;49m25.1.1\u001b[0m\n",
            "\u001b[1m[\u001b[0m\u001b[34;49mnotice\u001b[0m\u001b[1;39;49m]\u001b[0m\u001b[39;49m To update, run: \u001b[0m\u001b[32;49mpip install --upgrade pip\u001b[0m\n"
          ]
        }
      ],
      "source": [
        "!pip install contractions -q\n",
        "!pip install keras_tuner -q\n",
        "!npm install localtunnel -q\n",
        "!pip install matplotlib -q\n",
        "!pip install nltk -q\n",
        "!pip install numpy -q\n",
        "!pip install pandas -q\n",
        "!pip install scikit-learn -q\n",
        "!pip install seaborn -q\n",
        "!pip install streamlit -q\n",
        "!pip install symspellpy -q\n",
        "!pip install tensorflow -q\n",
        "!pip install wget -q"
      ]
    },
    {
      "cell_type": "code",
      "execution_count": null,
      "metadata": {
        "colab": {
          "base_uri": "https://localhost:8080/"
        },
        "id": "EfvEBKO6WpT6",
        "outputId": "23477396-e123-4036-f75a-964bb538b96d"
      },
      "outputs": [
        {
          "name": "stdout",
          "output_type": "stream",
          "text": [
            "Overwriting app_imports.py\n"
          ]
        }
      ],
      "source": [
        "%%writefile app_imports.py\n",
        "\n",
        "from configs import *\n",
        "\n",
        "import contractions\n",
        "import json # For saving/loading max_length and vocab_size\n",
        "import os\n",
        "import pickle # For saving/loading tokenizer\n",
        "import re\n",
        "import streamlit as st\n",
        "import time # To measure preprocessing time\n",
        "\n",
        "from symspellpy import SymSpell, Verbosity\n",
        "from importlib.resources import files\n",
        "\n",
        "import tensorflow as tf\n",
        "from tensorflow.keras.preprocessing.text import Tokenizer\n",
        "from tensorflow.keras.models import load_model\n",
        "from tensorflow.keras.preprocessing.sequence import pad_sequences\n",
        "\n",
        "# NLTK for text processing (tokenization, optional stopwords/lemmatization)\n",
        "import nltk\n",
        "from nltk.corpus import stopwords\n",
        "from nltk.tokenize import word_tokenize\n",
        "from nltk.stem import WordNetLemmatizer\n",
        "# Download necessary NLTK data\n",
        "print(\"Downloading NLTK data...\")\n",
        "nltk.download('punkt', quiet=True)\n",
        "nltk.download('stopwords', quiet=True)\n",
        "nltk.download('wordnet', quiet=True)\n",
        "nltk.download('punkt_tab', quiet=True)\n",
        "print(\"NLTK data downloaded.\")"
      ]
    },
    {
      "cell_type": "code",
      "execution_count": null,
      "metadata": {
        "colab": {
          "base_uri": "https://localhost:8080/"
        },
        "id": "LZ-69Q_Nupji",
        "outputId": "387d0c9b-f996-4fec-a12e-e7e2051cc320"
      },
      "outputs": [
        {
          "name": "stdout",
          "output_type": "stream",
          "text": [
            "Downloading NLTK data...\n",
            "NLTK data downloaded.\n",
            "Downloading NLTK data...\n",
            "NLTK data downloaded.\n"
          ]
        }
      ],
      "source": [
        "import app_imports\n",
        "reload(app_imports)\n",
        "from app_imports import *\n",
        "\n",
        "# Core libraries\n",
        "import tarfile\n",
        "import random\n",
        "import numpy as np\n",
        "import pandas as pd\n",
        "import keras_tuner as kt\n",
        "import matplotlib.pyplot as plt\n",
        "import seaborn as sns\n",
        "import wget\n",
        "\n",
        "# TensorFlow/Keras common imports\n",
        "from tensorflow.keras.layers import Embedding, LSTM, Dense, Dropout, Bidirectional, SpatialDropout1D\n",
        "from tensorflow.keras.callbacks import EarlyStopping\n",
        "from tensorflow.keras.optimizers import Adam\n",
        "from tensorflow.keras.models import Sequential # Needed if building model\n",
        "\n",
        "# Scikit-learn common imports\n",
        "from sklearn.model_selection import train_test_split\n",
        "from sklearn.metrics import classification_report, confusion_matrix, accuracy_score\n",
        "\n",
        "# Set random seeds for reproducibility\n",
        "np.random.seed(42)\n",
        "tf.random.set_seed(42)\n",
        "random.seed(42)\n",
        "\n",
        "# Configure plot style\n",
        "plt.style.use('ggplot')\n",
        "# Ensure plots are displayed inline in environments like Jupyter\n",
        "%matplotlib inline"
      ]
    },
    {
      "cell_type": "markdown",
      "metadata": {
        "id": "E_CTzZarupjj"
      },
      "source": [
        "### 1.1 Download and Prepare Data/Dictionary Files"
      ]
    },
    {
      "cell_type": "code",
      "execution_count": null,
      "metadata": {
        "colab": {
          "base_uri": "https://localhost:8080/"
        },
        "id": "8z9Hn1EDS0NB",
        "outputId": "775c3369-b384-42e0-e5b8-5af414cf883d"
      },
      "outputs": [
        {
          "name": "stdout",
          "output_type": "stream",
          "text": [
            "Overwriting sympsell_init.py\n"
          ]
        }
      ],
      "source": [
        "%%writefile sympsell_init.py\n",
        "\n",
        "from app_imports import *\n",
        "\n",
        "def init_sympspell(spell_correct):\n",
        "    sym_spell = None # Initialize sym_spell to None\n",
        "\n",
        "    # --- Set SymSpell Dictionary ---\n",
        "    dictionary_path = files(\"symspellpy\") / \"frequency_dictionary_en_82_765.txt\"\n",
        "    if not os.path.exists(dictionary_path):\n",
        "        print(\"Cannot find SymSpell dictionary. Disabling spelling correction.\")\n",
        "    else:\n",
        "        print(f\"\\nSymSpell dictionary already exists at {dictionary_path}\")\n",
        "\n",
        "    # --- Initialize SymSpell ---\n",
        "    if spell_correct and os.path.exists(dictionary_path):\n",
        "        print(\"\\nInitializing SymSpell...\")\n",
        "        start_time = time.time()\n",
        "        try:\n",
        "            sym_spell = SymSpell(max_dictionary_edit_distance=2, prefix_length=7)\n",
        "            # Load dictionary\n",
        "            if not sym_spell.load_dictionary(dictionary_path, term_index=0, count_index=1):\n",
        "                print(\"SymSpell dictionary loading failed.\")\n",
        "                sym_spell = None # Reset if failed\n",
        "                spell_correct = False # Disable if loading fails\n",
        "            else:\n",
        "                print(f\"SymSpell initialized successfully in {time.time() - start_time:.2f} seconds.\")\n",
        "        except Exception as e:\n",
        "            print(f\"Error initializing SymSpell: {e}\")\n",
        "            sym_spell = None\n",
        "            spell_correct = False\n",
        "    elif spell_correct:\n",
        "        print(\"\\nSymSpell dictionary file not found. Spelling correction will be skipped.\")\n",
        "        spell_correct = False # Ensure it's disabled\n",
        "\n",
        "    return sym_spell"
      ]
    },
    {
      "cell_type": "code",
      "execution_count": null,
      "metadata": {
        "colab": {
          "base_uri": "https://localhost:8080/"
        },
        "id": "OuTLPPoxciKd",
        "outputId": "e831b5c6-5615-4941-ee46-2f256c7f030b"
      },
      "outputs": [
        {
          "name": "stdout",
          "output_type": "stream",
          "text": [
            "\n",
            "SymSpell dictionary already exists at /Users/jayagbayani/.pyenv/versions/jupyter_env/lib/python3.12/site-packages/symspellpy/frequency_dictionary_en_82_765.txt\n",
            "\n",
            "Initializing SymSpell...\n",
            "SymSpell initialized successfully in 1.27 seconds.\n"
          ]
        }
      ],
      "source": [
        "import sympsell_init\n",
        "reload(sympsell_init)\n",
        "from sympsell_init import *\n",
        "\n",
        "sym_spell = init_sympspell(APPLY_SPELLING_CORRECTION)"
      ]
    },
    {
      "cell_type": "code",
      "execution_count": null,
      "metadata": {
        "id": "rxM7KGsyupjj",
        "outputId": "d8a4c090-29b9-4846-d4fd-11d64a8bcb85"
      },
      "outputs": [
        {
          "name": "stdout",
          "output_type": "stream",
          "text": [
            "Downloading Multi-Domain Sentiment Dataset...\n",
            "Dataset file already exists at data/domain_sentiment_data.tar.gz\n",
            "Data appears to be already extracted in data/extracted/sorted_data_acl\n",
            "\n",
            "Found domains: ['electronics', 'books', 'dvd', 'kitchen_&_housewares']\n"
          ]
        }
      ],
      "source": [
        "if not LOAD_PRETRAINED_MODEL:\n",
        "    # --- Dataset Download and Extraction ---\n",
        "    data_dir = 'data'\n",
        "    extracted_dir = os.path.join(data_dir, \"extracted\")\n",
        "    sorted_data_dir = os.path.join(extracted_dir, \"sorted_data_acl\")\n",
        "\n",
        "    os.makedirs(data_dir, exist_ok=True)\n",
        "    os.makedirs(extracted_dir, exist_ok=True)\n",
        "\n",
        "    # Download the Multi-Domain Sentiment Dataset\n",
        "    print(\"Downloading Multi-Domain Sentiment Dataset...\")\n",
        "    sentiment_url = \"https://www.cs.jhu.edu/~mdredze/datasets/sentiment/domain_sentiment_data.tar.gz\"\n",
        "    sentiment_file_path = os.path.join(data_dir, \"domain_sentiment_data.tar.gz\")\n",
        "\n",
        "    if not os.path.exists(sentiment_file_path):\n",
        "        try:\n",
        "            wget.download(sentiment_url, sentiment_file_path)\n",
        "            print(f\"\\nDownloaded dataset to {sentiment_file_path}\")\n",
        "        except Exception as e:\n",
        "            print(f\"Error downloading dataset: {e}\")\n",
        "    else:\n",
        "        print(f\"Dataset file already exists at {sentiment_file_path}\")\n",
        "\n",
        "    # Extract the downloaded tar.gz file\n",
        "    if not os.path.exists(sorted_data_dir) and os.path.exists(sentiment_file_path):\n",
        "        print(\"\\nExtracting the Multi-Domain Sentiment Dataset...\")\n",
        "        try:\n",
        "            with tarfile.open(sentiment_file_path, 'r:gz') as tar:\n",
        "                tar.extractall(path=extracted_dir)\n",
        "                print(f\"Extracted contents to {extracted_dir}\")\n",
        "                # Check if the expected directory exists after extraction\n",
        "                if not os.path.exists(sorted_data_dir):\n",
        "                    print(f\"Warning: Expected directory '{sorted_data_dir}' not found after extraction.\")\n",
        "\n",
        "        except tarfile.ReadError as e:\n",
        "            print(f\"Error reading tar file: {e}. It might be corrupted or incomplete.\")\n",
        "        except Exception as e:\n",
        "            print(f\"An error occurred during extraction: {e}\")\n",
        "    elif os.path.exists(sorted_data_dir):\n",
        "        print(f\"Data appears to be already extracted in {sorted_data_dir}\")\n",
        "    else:\n",
        "        print(\"Dataset archive not found. Cannot extract.\")\n",
        "\n",
        "    # List available domains from extracted data\n",
        "    if os.path.exists(sorted_data_dir):\n",
        "        domains = [d for d in os.listdir(sorted_data_dir) if os.path.isdir(os.path.join(sorted_data_dir, d))]\n",
        "        print(f\"\\nFound domains: {domains}\")\n",
        "    else:\n",
        "        print(f\"\\nError: Data directory '{sorted_data_dir}' not found. Cannot proceed.\")\n",
        "        domains = [] # Set domains to empty list to prevent errors later"
      ]
    },
    {
      "cell_type": "markdown",
      "metadata": {
        "id": "c19H_mwRupjj"
      },
      "source": [
        "## 2. Data Loading and Preprocessing\n",
        "\n",
        "This section focuses on loading the review text, cleaning it, and preparing it for the model."
      ]
    },
    {
      "cell_type": "markdown",
      "metadata": {
        "id": "rJoGdjyKupjj"
      },
      "source": [
        "### 2.1 Extract Review Text"
      ]
    },
    {
      "cell_type": "code",
      "execution_count": null,
      "metadata": {
        "id": "cp8zyrFCupjj"
      },
      "outputs": [],
      "source": [
        "def extract_review_text_from_file(file_path):\n",
        "    \"\"\"\n",
        "    Extracts text content between <review_text> tags from a file.\n",
        "    \"\"\"\n",
        "    reviews = []\n",
        "    if not os.path.exists(file_path):\n",
        "        print(f\"Warning: File not found - {file_path}\") # Reduce verbosity\n",
        "        return reviews\n",
        "    try:\n",
        "        with open(file_path, 'r', encoding='utf-8', errors='replace') as f:\n",
        "            content = f.read()\n",
        "            found_texts = re.findall(r'<review_text>(.*?)</review_text>', content, re.DOTALL)\n",
        "            reviews = [text.strip() for text in found_texts if text.strip()]\n",
        "    except Exception as e:\n",
        "        print(f\"Error reading or parsing file {file_path}: {e}\")\n",
        "    return reviews"
      ]
    },
    {
      "cell_type": "markdown",
      "metadata": {
        "id": "anrveANmupjj"
      },
      "source": [
        "### 2.2 Load Data from All Domains"
      ]
    },
    {
      "cell_type": "code",
      "execution_count": null,
      "metadata": {
        "id": "nNjto6KRupjj",
        "outputId": "c251870e-abac-4d16-fc5c-d60a6e09ccb4"
      },
      "outputs": [
        {
          "name": "stdout",
          "output_type": "stream",
          "text": [
            "Loading reviews from all domains...\n",
            "Processing domain: electronics\n",
            "  Loaded 1000 positive reviews.\n",
            "  Loaded 1000 negative reviews.\n",
            "Processing domain: books\n",
            "  Loaded 1000 positive reviews.\n",
            "  Loaded 1000 negative reviews.\n",
            "Processing domain: dvd\n",
            "  Loaded 1000 positive reviews.\n",
            "  Loaded 1000 negative reviews.\n",
            "Processing domain: kitchen_&_housewares\n",
            "  Loaded 1000 positive reviews.\n",
            "  Loaded 1000 negative reviews.\n",
            "\n",
            "Total reviews loaded: 8000\n",
            "Total labels loaded: 8000\n",
            "Positive reviews: 4000\n",
            "Negative reviews: 4000\n"
          ]
        }
      ],
      "source": [
        "if not LOAD_PRETRAINED_MODEL:\n",
        "    all_texts = []\n",
        "    all_labels = []\n",
        "    all_domains = []\n",
        "\n",
        "    print(\"Loading reviews from all domains...\")\n",
        "\n",
        "    if not domains:\n",
        "        print(\"Error: No domains found. Cannot load data.\")\n",
        "    else:\n",
        "        for domain in domains:\n",
        "            domain_path = os.path.join(sorted_data_dir, domain)\n",
        "            print(f\"Processing domain: {domain}\")\n",
        "\n",
        "            # Process positive reviews\n",
        "            pos_file = os.path.join(domain_path, \"positive.review\")\n",
        "            pos_texts = extract_review_text_from_file(pos_file)\n",
        "            all_texts.extend(pos_texts)\n",
        "            all_labels.extend([1] * len(pos_texts)) # 1 for positive\n",
        "            all_domains.extend([domain] * len(pos_texts))\n",
        "            print(f\"  Loaded {len(pos_texts)} positive reviews.\")\n",
        "\n",
        "            # Process negative reviews\n",
        "            neg_file = os.path.join(domain_path, \"negative.review\")\n",
        "            neg_texts = extract_review_text_from_file(neg_file)\n",
        "            all_texts.extend(neg_texts)\n",
        "            all_labels.extend([0] * len(neg_texts)) # 0 for negative\n",
        "            all_domains.extend([domain] * len(neg_texts))\n",
        "            print(f\"  Loaded {len(neg_texts)} negative reviews.\")\n",
        "\n",
        "    print(f\"\\nTotal reviews loaded: {len(all_texts)}\")\n",
        "    print(f\"Total labels loaded: {len(all_labels)}\")\n",
        "    if all_texts:\n",
        "        print(f\"Positive reviews: {sum(all_labels)}\")\n",
        "        print(f\"Negative reviews: {len(all_labels) - sum(all_labels)}\")"
      ]
    },
    {
      "cell_type": "markdown",
      "metadata": {
        "id": "8lT2OgRAupjj"
      },
      "source": [
        "### 2.3 Create DataFrame and Initial Shuffle"
      ]
    },
    {
      "cell_type": "code",
      "execution_count": null,
      "metadata": {
        "id": "5Gq22fEdupjj",
        "outputId": "935689c2-5fa8-4dae-b314-d97605efba9f"
      },
      "outputs": [
        {
          "name": "stdout",
          "output_type": "stream",
          "text": [
            "\n",
            "DataFrame created and shuffled.\n",
            "                                                text  sentiment       domain\n",
            "0  Simply Awesome! I keep having to stop the tape...          1        books\n",
            "1  This volume contains a lot of valuable informa...          1        books\n",
            "2  Do not be deceived by the photo this thing is ...          0  electronics\n",
            "3  This book could have been written in 200 pages...          0        books\n",
            "4  Peirce really suprised me in this movie.  He w...          1          dvd\n",
            "\n",
            "Shape of DataFrame: (8000, 3)\n"
          ]
        }
      ],
      "source": [
        "if not LOAD_PRETRAINED_MODEL:\n",
        "    if not all_texts:\n",
        "        print(\"Error: No review texts were loaded. Cannot create DataFrame.\")\n",
        "        reviews_df = pd.DataFrame(columns=['text', 'sentiment', 'domain'])\n",
        "    else:\n",
        "        reviews_df = pd.DataFrame({\n",
        "            'text': all_texts,\n",
        "            'sentiment': all_labels,\n",
        "            'domain': all_domains\n",
        "        })\n",
        "        # Shuffle the DataFrame\n",
        "        reviews_df = reviews_df.sample(frac=1, random_state=42).reset_index(drop=True)\n",
        "        print(\"\\nDataFrame created and shuffled.\")\n",
        "        print(reviews_df.head())\n",
        "        print(f\"\\nShape of DataFrame: {reviews_df.shape}\")"
      ]
    },
    {
      "cell_type": "markdown",
      "metadata": {
        "id": "5gdIDrXvupjj"
      },
      "source": [
        "### 2.4 Text Cleaning and Preprocessing Pipeline"
      ]
    },
    {
      "cell_type": "code",
      "execution_count": null,
      "metadata": {
        "colab": {
          "base_uri": "https://localhost:8080/"
        },
        "id": "uxEqMy8lupjk",
        "outputId": "0bf07a09-f8b7-4c09-8130-8a198d8bb9af"
      },
      "outputs": [
        {
          "name": "stdout",
          "output_type": "stream",
          "text": [
            "Overwriting preprocess.py\n"
          ]
        }
      ],
      "source": [
        "%%writefile preprocess.py\n",
        "\n",
        "from sympsell_init import *\n",
        "\n",
        "# --- Text Cleaning and Preprocessing Functions ---\n",
        "def expand_contractions(text):\n",
        "    \"\"\"Expand contractions in the text.\"\"\"\n",
        "    return contractions.fix(text)\n",
        "\n",
        "def clean_text(text):\n",
        "    \"\"\"Basic cleaning: lowercase, punctuation removal (keeping !?), whitespace.\"\"\"\n",
        "    if not isinstance(text, str): return \"\" # Return empty string for non-string input\n",
        "    text = text.lower()\n",
        "    text = re.sub(r'[^a-z0-9\\s!?]', ' ', text) # Keep letters, numbers, space, !, ?\n",
        "    text = re.sub(r'\\s+([?.!,\"])', r'\\1', text) # Fix spacing around punctuation\n",
        "    text = re.sub(r'\\s+', ' ', text).strip() # Remove extra spaces\n",
        "    return text\n",
        "\n",
        "def symspell_correct(text, sym_spell_instance):\n",
        "    \"\"\"Corrects spelling using a provided SymSpell instance.\"\"\"\n",
        "    if not sym_spell_instance or not isinstance(text, str) or not text.strip(): return text\n",
        "    suggestions = sym_spell_instance.lookup_compound(text, max_edit_distance=2, transfer_casing=True)\n",
        "    return suggestions[0].term if suggestions else text\n",
        "\n",
        "def handle_negations(text):\n",
        "    \"\"\"Combine common negation words with the following word.\"\"\"\n",
        "    negation_words = {\"not\", \"no\", \"never\", \"none\", \"nobody\", \"nothing\", \"neither\", \"nor\", \"nowhere\",\n",
        "                      \"hardly\", \"scarcely\", \"barely\", \"don't\", \"doesn't\", \"didn't\", \"shouldn't\",\n",
        "                      \"couldn't\", \"won't\", \"wouldn't\", \"isn't\", \"aren't\", \"wasn't\", \"weren't\",\n",
        "                      \"hasn't\", \"haven't\", \"hadn't\", \"ain't\"}\n",
        "    tokens = word_tokenize(text)\n",
        "    processed_tokens = []\n",
        "    skip_next = False\n",
        "    for i, token in enumerate(tokens):\n",
        "        if skip_next: skip_next = False; continue\n",
        "        if token in negation_words and i + 1 < len(tokens):\n",
        "            processed_tokens.append(f\"{token}_{tokens[i + 1]}\")\n",
        "            skip_next = True\n",
        "        else: processed_tokens.append(token)\n",
        "    return ' '.join(processed_tokens)\n",
        "\n",
        "def remove_stopwords_custom(text):\n",
        "    \"\"\"Removes common English stopwords, excluding common negation words.\"\"\"\n",
        "    stop_words = set(stopwords.words('english'))\n",
        "    negation_words = {\"not\", \"no\", \"never\", \"none\", \"nobody\", \"nothing\", \"neither\", \"nor\", \"nowhere\",\n",
        "                      \"hardly\", \"scarcely\", \"barely\", \"don't\", \"doesn't\", \"didn't\", \"shouldn't\",\n",
        "                      \"couldn't\", \"won't\", \"wouldn't\", \"isn't\", \"aren't\", \"wasn't\", \"weren't\",\n",
        "                      \"hasn't\", \"haven't\", \"hadn't\", \"ain't\"}\n",
        "    stop_words -= negation_words\n",
        "    try: word_tokens = word_tokenize(text)\n",
        "    except Exception: return text\n",
        "    filtered_text = [word for word in word_tokens if word not in stop_words]\n",
        "    return ' '.join(filtered_text)\n",
        "\n",
        "def lemmatize_text(text):\n",
        "    \"\"\"Lemmatizes text.\"\"\"\n",
        "    lemmatizer = WordNetLemmatizer()\n",
        "    try: word_tokens = word_tokenize(text)\n",
        "    except Exception: return text\n",
        "    lemmatized_text = [lemmatizer.lemmatize(word) for word in word_tokens]\n",
        "    return ' '.join(lemmatized_text)\n",
        "\n",
        "# --- Master Preprocessing Function ---\n",
        "def preprocess_text_pipeline(text, sym_spell_instance, use_spelling, use_negation_handling, use_stopwords, use_lemmatization):\n",
        "    \"\"\"Applies the selected preprocessing steps in a defined order.\"\"\"\n",
        "    text = expand_contractions(text)\n",
        "    text = clean_text(text)\n",
        "    if use_spelling and sym_spell_instance: text = symspell_correct(text, sym_spell_instance)\n",
        "    if use_stopwords: text = remove_stopwords_custom(text)\n",
        "    if use_negation_handling: text = handle_negations(text)\n",
        "    if use_lemmatization: text = lemmatize_text(text)\n",
        "    text = re.sub(r'\\s+', ' ', text).strip()\n",
        "    return text"
      ]
    },
    {
      "cell_type": "code",
      "execution_count": null,
      "metadata": {
        "id": "m7DEGpyMTKBY",
        "outputId": "2d1a62c6-f415-462a-92fd-1fd5f899f535"
      },
      "outputs": [
        {
          "name": "stdout",
          "output_type": "stream",
          "text": [
            "\n",
            "Applying text preprocessing pipeline...\n",
            "Settings: Spelling=True, Negation Handling=True, Stopwords=True, Lemmatization=True\n",
            "Preprocessing finished in 92.92 seconds.\n",
            "\n",
            "Sample of original vs processed text:\n",
            "                                                text  \\\n",
            "0  Simply Awesome! I keep having to stop the tape...   \n",
            "1  This volume contains a lot of valuable informa...   \n",
            "2  Do not be deceived by the photo this thing is ...   \n",
            "3  This book could have been written in 200 pages...   \n",
            "4  Peirce really suprised me in this movie.  He w...   \n",
            "\n",
            "                                      processed_text  \n",
            "0                 simply awesome keep stop tape sink  \n",
            "1  volume contains lot valuable information work ...  \n",
            "2  not_deceived photo thing tiny looking small lo...  \n",
            "3  book could written page instead james frey not...  \n",
            "4  peirce really surprised movie always pretty mo...  \n"
          ]
        }
      ],
      "source": [
        "import preprocess\n",
        "reload(preprocess)\n",
        "from preprocess import *\n",
        "\n",
        "# --- Apply Preprocessing to DataFrame (only if not loading) ---\n",
        "if not LOAD_PRETRAINED_MODEL:\n",
        "    if 'text' in reviews_df.columns:\n",
        "        print(\"\\nApplying text preprocessing pipeline...\")\n",
        "        print(f\"Settings: Spelling={APPLY_SPELLING_CORRECTION}, Negation Handling={HANDLE_NEGATION_TOKENS}, Stopwords={REMOVE_STOPWORDS}, Lemmatization={APPLY_LEMMATIZATION}\")\n",
        "        start_time = time.time()\n",
        "        reviews_df['processed_text'] = reviews_df['text'].astype(str).apply(\n",
        "            lambda x: preprocess_text_pipeline(\n",
        "                x, sym_spell, APPLY_SPELLING_CORRECTION, HANDLE_NEGATION_TOKENS, REMOVE_STOPWORDS, APPLY_LEMMATIZATION\n",
        "            )\n",
        "        )\n",
        "        end_time = time.time()\n",
        "        print(f\"Preprocessing finished in {end_time - start_time:.2f} seconds.\")\n",
        "        print(\"\\nSample of original vs processed text:\")\n",
        "        print(reviews_df[['text', 'processed_text']].head())\n",
        "    else:\n",
        "        print(\"Error: 'text' column not found in DataFrame. Skipping preprocessing.\")"
      ]
    },
    {
      "cell_type": "markdown",
      "metadata": {
        "id": "iJcKmfSeupjk"
      },
      "source": [
        "### 2.5 Outlier Removal"
      ]
    },
    {
      "cell_type": "code",
      "execution_count": null,
      "metadata": {
        "id": "3DU5NiWKupjk",
        "outputId": "23bae30f-a607-4d7c-eff2-811acbd399b3"
      },
      "outputs": [
        {
          "name": "stdout",
          "output_type": "stream",
          "text": [
            "\n",
            "Original number of reviews: 8000\n",
            "Removed 21 reviews with < 5 words.\n",
            "Number of reviews remaining: 7979\n"
          ]
        },
        {
          "data": {
            "image/png": "[encoded data removed]",
            "text/plain": [
              "<Figure size 1000x500 with 1 Axes>"
            ]
          },
          "metadata": {},
          "output_type": "display_data"
        }
      ],
      "source": [
        "if not LOAD_PRETRAINED_MODEL:\n",
        "    if 'processed_text' in reviews_df.columns:\n",
        "        reviews_df['word_count'] = reviews_df['processed_text'].apply(lambda x: len(x.split()))\n",
        "        min_words = 5 # Define minimum word count\n",
        "\n",
        "        print(f\"\\nOriginal number of reviews: {len(reviews_df)}\")\n",
        "        initial_count = len(reviews_df)\n",
        "        reviews_df = reviews_df[reviews_df['word_count'] >= min_words].copy()\n",
        "        removed_count = initial_count - len(reviews_df)\n",
        "        print(f\"Removed {removed_count} reviews with < {min_words} words.\")\n",
        "        print(f\"Number of reviews remaining: {len(reviews_df)}\")\n",
        "\n",
        "        # Display word count distribution\n",
        "        plt.figure(figsize=(10, 5))\n",
        "        sns.histplot(reviews_df['word_count'], bins=50)\n",
        "        plt.title('Word Count Distribution (After Preprocessing and Outlier Removal)')\n",
        "        plt.xlabel('Word Count');\n",
        "        plt.xlim(0, 500);\n",
        "        plt.show()\n",
        "    else:\n",
        "        print(\"Skipping outlier removal as 'processed_text' column is missing.\")"
      ]
    },
    {
      "cell_type": "markdown",
      "metadata": {
        "id": "NKz9Slw5upjk"
      },
      "source": [
        "### 2.6 Tokenization and Padding"
      ]
    },
    {
      "cell_type": "code",
      "execution_count": null,
      "metadata": {
        "id": "xTwQXRyqupjk",
        "outputId": "da3a91f2-277a-4eca-bb17-9cc6594e1a27"
      },
      "outputs": [
        {
          "name": "stdout",
          "output_type": "stream",
          "text": [
            "\n",
            "Effective vocabulary size for Embedding layer: 10000\n",
            "Using max_length = 220 for padding.\n",
            "Shape of padded sequences: (7979, 220)\n",
            "\n",
            "Saving tokenizer to tokenizer--TRUE_TRUE.pkl\n",
            "Saving model params (max_length, vocab_size) to model_params--TRUE_TRUE.json\n"
          ]
        }
      ],
      "source": [
        "if not LOAD_PRETRAINED_MODEL:\n",
        "    if 'processed_text' in reviews_df.columns and not reviews_df.empty:\n",
        "        # Parameters for tokenization and padding\n",
        "        max_words = 10000  # Max number of words to keep in vocabulary\n",
        "        oov_token = \"<OOV>\" # Token for words not in vocabulary\n",
        "\n",
        "        # Initialize and fit tokenizer\n",
        "        tokenizer = Tokenizer(num_words=max_words, oov_token=oov_token)\n",
        "        tokenizer.fit_on_texts(reviews_df['processed_text'])\n",
        "        vocab_size = len(tokenizer.word_index) + 1\n",
        "        actual_vocab_size = min(vocab_size, max_words)\n",
        "        print(f\"\\nEffective vocabulary size for Embedding layer: {actual_vocab_size}\")\n",
        "\n",
        "        # Convert text to sequences\n",
        "        sequences = tokenizer.texts_to_sequences(reviews_df['processed_text'])\n",
        "        seq_lengths = [len(s) for s in sequences]\n",
        "        if not seq_lengths:\n",
        "            print(\"Warning: No sequences generated.\")\n",
        "            max_length = 100 # Default max_length\n",
        "        else:\n",
        "            max_length = max(1, int(np.percentile(seq_lengths, 95)))\n",
        "        print(f\"Using max_length = {max_length} for padding.\")\n",
        "\n",
        "        # Pad sequences\n",
        "        padded_sequences = pad_sequences(sequences, maxlen=max_length, padding='post', truncating='post')\n",
        "        print(f\"Shape of padded sequences: {padded_sequences.shape}\")\n",
        "\n",
        "        # --- Save Tokenizer and Params ---\n",
        "        print(f\"\\nSaving tokenizer to {SAVED_TOKENIZER_PATH}\")\n",
        "        with open(SAVED_TOKENIZER_PATH, 'wb') as handle:\n",
        "            pickle.dump(tokenizer, handle, protocol=pickle.HIGHEST_PROTOCOL)\n",
        "\n",
        "        params_to_save = {'max_length': max_length, 'actual_vocab_size': actual_vocab_size}\n",
        "        print(f\"Saving model params (max_length, vocab_size) to {SAVED_PARAMS_PATH}\")\n",
        "        with open(SAVED_PARAMS_PATH, 'w') as f:\n",
        "            json.dump(params_to_save, f)\n",
        "        # -------------------------------\n",
        "\n",
        "    else:\n",
        "        print(\"Error: Cannot perform tokenization. 'processed_text' column missing or DataFrame is empty.\")\n",
        "        padded_sequences = np.array([])\n",
        "        labels_array = np.array([])\n",
        "        actual_vocab_size = 1 # Default value\n",
        "        max_length = 1 # Default value\n",
        "        tokenizer = None"
      ]
    },
    {
      "cell_type": "markdown",
      "metadata": {
        "id": "IWEm4viEupjk"
      },
      "source": [
        "### 2.7 Prepare Labels and Split Data"
      ]
    },
    {
      "cell_type": "code",
      "execution_count": null,
      "metadata": {
        "id": "trHHG2Juupjk",
        "outputId": "aad4de3b-653c-4b68-8f33-ed245146826f"
      },
      "outputs": [
        {
          "name": "stdout",
          "output_type": "stream",
          "text": [
            "\n",
            "Data Splitting:\n",
            "Training set shape:   X=(5585, 220), y=(5585,)\n",
            "Validation set shape: X=(1197, 220), y=(1197,)\n",
            "Test set shape:       X=(1197, 220), y=(1197,)\n",
            "\n",
            "Class Distribution:\n",
            "Train: Positive=2793, Negative=2792\n",
            "Valid: Positive=598, Negative=599\n",
            "Test:  Positive=598, Negative=599\n"
          ]
        }
      ],
      "source": [
        "if not LOAD_PRETRAINED_MODEL:\n",
        "    if padded_sequences.size > 0:\n",
        "        labels_array = np.array(reviews_df['sentiment'])\n",
        "\n",
        "        # Split into Train/Validation (85%) and Test (15%)\n",
        "        X_train_val, X_test, y_train_val, y_test = train_test_split(\n",
        "            padded_sequences,\n",
        "            labels_array,\n",
        "            test_size=0.15,\n",
        "            random_state=42,\n",
        "            stratify=labels_array\n",
        "        )\n",
        "\n",
        "        # Split Train/Validation into Train and Validation\n",
        "        val_split_ratio = X_test.shape[0] / X_train_val.shape[0] if X_train_val.shape[0] > 0 else 0.15\n",
        "        X_train, X_val, y_train, y_val = train_test_split(\n",
        "            X_train_val,\n",
        "            y_train_val,\n",
        "            test_size=val_split_ratio,\n",
        "            random_state=42,\n",
        "            stratify=y_train_val\n",
        "        )\n",
        "\n",
        "        print(\"\\nData Splitting:\")\n",
        "        print(f\"Training set shape:   X={X_train.shape}, y={y_train.shape}\")\n",
        "        print(f\"Validation set shape: X={X_val.shape}, y={y_val.shape}\")\n",
        "        print(f\"Test set shape:       X={X_test.shape}, y={y_test.shape}\")\n",
        "\n",
        "        # Verify class distribution in each set\n",
        "        print(\"\\nClass Distribution:\")\n",
        "        print(f\"Train: Positive={sum(y_train)}, Negative={len(y_train)-sum(y_train)}\")\n",
        "        print(f\"Valid: Positive={sum(y_val)}, Negative={len(y_val)-sum(y_val)}\")\n",
        "        print(f\"Test:  Positive={sum(y_test)}, Negative={len(y_test)-sum(y_test)}\")\n",
        "    else:\n",
        "        print(\"Error: Padded sequences are empty. Cannot split data.\")\n",
        "        X_train, X_val, X_test = np.array([]), np.array([]), np.array([])\n",
        "        y_train, y_val, y_test = np.array([]), np.array([]), np.array([])\n",
        "        X_train_val, y_train_val = np.array([]), np.array([])"
      ]
    },
    {
      "cell_type": "markdown",
      "metadata": {
        "id": "gDSfBqKdupjk"
      },
      "source": [
        "## 3. Model Development, Tuning, and Training"
      ]
    },
    {
      "cell_type": "markdown",
      "metadata": {
        "id": "psTyur3lupjk"
      },
      "source": [
        "### 3.1 Define Model Building Function for Keras Tuner"
      ]
    },
    {
      "cell_type": "code",
      "execution_count": null,
      "metadata": {
        "id": "N5bQSGxnupjk"
      },
      "outputs": [],
      "source": [
        "def build_model(hp):\n",
        "    \"\"\"Builds a Keras model with tunable hyperparameters.\"\"\"\n",
        "    # Define hyperparameter search space\n",
        "    hp_embedding_dim = hp.Int('embedding_dim', min_value=32, max_value=128, step=32)\n",
        "    hp_lstm_units = hp.Int('lstm_units', min_value=32, max_value=128, step=32)\n",
        "    hp_spatial_dropout = hp.Float('spatial_dropout', min_value=0.1, max_value=0.5, step=0.1)\n",
        "    hp_lstm_dropout = hp.Float('lstm_dropout', min_value=0.1, max_value=0.5, step=0.1)\n",
        "    hp_recurrent_dropout = hp.Float('recurrent_dropout', min_value=0.1, max_value=0.5, step=0.1)\n",
        "    hp_learning_rate = hp.Choice('learning_rate', values=[1e-3, 5e-4, 1e-4])\n",
        "\n",
        "    model = Sequential([\n",
        "        # 1. Embedding Layer\n",
        "        Embedding(input_dim=actual_vocab_size,\n",
        "                  output_dim=hp_embedding_dim,\n",
        "                  input_length=max_length,\n",
        "                  mask_zero=True),\n",
        "        # 2. Spatial Dropout\n",
        "        SpatialDropout1D(hp_spatial_dropout),\n",
        "        # 3. Bidirectional LSTM\n",
        "        Bidirectional(LSTM(hp_lstm_units,\n",
        "                           dropout=hp_lstm_dropout,\n",
        "                           recurrent_dropout=hp_recurrent_dropout)),\n",
        "        # 4. Dense Layer\n",
        "        # Dense(32, activation='relu'),\n",
        "        # Dropout(dropout_rate),\n",
        "        # 5. Output Layer\n",
        "        Dense(1, activation='sigmoid')\n",
        "    ])\n",
        "    model.compile(\n",
        "        optimizer=Adam(learning_rate=hp_learning_rate),\n",
        "        loss='binary_crossentropy',\n",
        "        metrics=['accuracy']\n",
        "    )\n",
        "\n",
        "    # model.summary()\n",
        "    return model"
      ]
    },
    {
      "cell_type": "markdown",
      "metadata": {
        "id": "WAexe18-upjl"
      },
      "source": [
        "### 3.2 Configure and Run Keras Tuner Search"
      ]
    },
    {
      "cell_type": "code",
      "execution_count": null,
      "metadata": {
        "id": "67KhmfLTupjl",
        "outputId": "db0ad3bd-2fa0-4714-ca56-6709e40f80dd"
      },
      "outputs": [
        {
          "name": "stdout",
          "output_type": "stream",
          "text": [
            "Trial 10 Complete [00h 05m 12s]\n",
            "val_accuracy: 0.8020049929618835\n",
            "\n",
            "Best val_accuracy So Far: 0.8195488452911377\n",
            "Total elapsed time: 00h 29m 22s\n",
            "Hyperparameter search finished in 1762.06 seconds.\n",
            "\n",
            "Optimal Hyperparameters Found:\n",
            "  embedding_dim: 128\n",
            "  lstm_units: 96\n",
            "  spatial_dropout: 0.2\n",
            "  lstm_dropout: 0.5\n",
            "  recurrent_dropout: 0.1\n",
            "  learning_rate: 0.0005\n",
            "\n",
            "Tuner Search Summary:\n",
            "Results summary\n",
            "Results in keras_tuner_dir/sentiment_tuning--TRUE_TRUE\n",
            "Showing 5 best trials\n",
            "Objective(name=\"val_accuracy\", direction=\"max\")\n",
            "\n",
            "Trial 08 summary\n",
            "Hyperparameters:\n",
            "embedding_dim: 128\n",
            "lstm_units: 96\n",
            "spatial_dropout: 0.2\n",
            "lstm_dropout: 0.5\n",
            "recurrent_dropout: 0.1\n",
            "learning_rate: 0.0005\n",
            "Score: 0.8195488452911377\n",
            "\n",
            "Trial 04 summary\n",
            "Hyperparameters:\n",
            "embedding_dim: 64\n",
            "lstm_units: 96\n",
            "spatial_dropout: 0.2\n",
            "lstm_dropout: 0.1\n",
            "recurrent_dropout: 0.2\n",
            "learning_rate: 0.001\n",
            "Score: 0.8170425891876221\n",
            "\n",
            "Trial 02 summary\n",
            "Hyperparameters:\n",
            "embedding_dim: 96\n",
            "lstm_units: 32\n",
            "spatial_dropout: 0.1\n",
            "lstm_dropout: 0.5\n",
            "recurrent_dropout: 0.4\n",
            "learning_rate: 0.001\n",
            "Score: 0.8162071704864502\n",
            "\n",
            "Trial 06 summary\n",
            "Hyperparameters:\n",
            "embedding_dim: 128\n",
            "lstm_units: 128\n",
            "spatial_dropout: 0.2\n",
            "lstm_dropout: 0.1\n",
            "recurrent_dropout: 0.5\n",
            "learning_rate: 0.0005\n",
            "Score: 0.8162071704864502\n",
            "\n",
            "Trial 00 summary\n",
            "Hyperparameters:\n",
            "embedding_dim: 128\n",
            "lstm_units: 128\n",
            "spatial_dropout: 0.2\n",
            "lstm_dropout: 0.4\n",
            "recurrent_dropout: 0.2\n",
            "learning_rate: 0.0005\n",
            "Score: 0.8145363330841064\n"
          ]
        },
        {
          "name": "stderr",
          "output_type": "stream",
          "text": [
            "/Users/jayagbayani/.pyenv/versions/jupyter_env/lib/python3.12/site-packages/keras/src/saving/saving_lib.py:757: UserWarning: Skipping variable loading for optimizer 'adam', because it has 2 variables whereas the saved optimizer has 20 variables. \n",
            "  saveable.load_own_variables(weights_store.get(inner_path))\n"
          ]
        }
      ],
      "source": [
        "tuner = None\n",
        "best_hps = None\n",
        "best_model_from_tuner = None # Store the direct output from tuner\n",
        "\n",
        "if not LOAD_PRETRAINED_MODEL:\n",
        "    if 'X_train' in locals() and X_train.size > 0:\n",
        "        print(\"\\nConfiguring Keras Tuner...\")\n",
        "        tuner = kt.RandomSearch(\n",
        "            build_model,\n",
        "            objective='val_accuracy',\n",
        "            max_trials=10, # Number of models to test\n",
        "            executions_per_trial=1,\n",
        "            directory='keras_tuner_dir',\n",
        "            project_name=PROJECT_NAME,\n",
        "            overwrite=True\n",
        "        )\n",
        "        tuner_early_stopping = EarlyStopping(\n",
        "            monitor='val_loss',\n",
        "            patience=3,\n",
        "            verbose=1\n",
        "        )\n",
        "\n",
        "        print(\"Starting hyperparameter search...\")\n",
        "        start_time = time.time()\n",
        "        tuner.search(\n",
        "            X_train,\n",
        "            y_train,\n",
        "            epochs=10,\n",
        "            validation_data=(X_val, y_val),\n",
        "            callbacks=[tuner_early_stopping],\n",
        "            verbose=1\n",
        "        )\n",
        "        end_time = time.time()\n",
        "        print(f\"Hyperparameter search finished in {end_time - start_time:.2f} seconds.\")\n",
        "\n",
        "        # Get best HPs and model\n",
        "        best_hps = tuner.get_best_hyperparameters(num_trials=1)[0]\n",
        "        best_model_from_tuner = tuner.get_best_models(num_models=1)[0] # Get the best model instance\n",
        "\n",
        "        print(\"\\nOptimal Hyperparameters Found:\")\n",
        "        # Print hyperparameters\n",
        "        for hp_name in best_hps.values:\n",
        "             print(f\"  {hp_name}: {best_hps.get(hp_name)}\")\n",
        "\n",
        "        print(\"\\nTuner Search Summary:\")\n",
        "        tuner.results_summary(num_trials=5) # Show top 5 trials\n",
        "\n",
        "    else:\n",
        "        print(\"Error: Training data not available. Skipping hyperparameter tuning.\")"
      ]
    },
    {
      "cell_type": "markdown",
      "metadata": {
        "id": "L6yZASXEupjl"
      },
      "source": [
        "### 3.3 Re-train the Best Model on Full Training Data (`X_train_val`)"
      ]
    },
    {
      "cell_type": "code",
      "execution_count": null,
      "metadata": {
        "id": "wBpnGRQcupjl",
        "outputId": "993a1f5a-6f71-4381-8c20-9dbc46e733c2"
      },
      "outputs": [
        {
          "name": "stdout",
          "output_type": "stream",
          "text": [
            "\n",
            "Re-training the best model on the combined training and validation data...\n",
            "Re-training for up to 15 epochs...\n",
            "Epoch 1/15\n",
            "\u001b[1m106/106\u001b[0m \u001b[32m━━━━━━━━━━━━━━━━━━━━\u001b[0m\u001b[37m\u001b[0m \u001b[1m17s\u001b[0m 140ms/step - accuracy: 0.5705 - loss: 0.6744\n",
            "Epoch 2/15\n",
            "\u001b[1m106/106\u001b[0m \u001b[32m━━━━━━━━━━━━━━━━━━━━\u001b[0m\u001b[37m\u001b[0m \u001b[1m16s\u001b[0m 149ms/step - accuracy: 0.8150 - loss: 0.4230\n",
            "Epoch 3/15\n",
            "\u001b[1m106/106\u001b[0m \u001b[32m━━━━━━━━━━━━━━━━━━━━\u001b[0m\u001b[37m\u001b[0m \u001b[1m15s\u001b[0m 139ms/step - accuracy: 0.8913 - loss: 0.2820\n",
            "Epoch 4/15\n",
            "\u001b[1m106/106\u001b[0m \u001b[32m━━━━━━━━━━━━━━━━━━━━\u001b[0m\u001b[37m\u001b[0m \u001b[1m15s\u001b[0m 144ms/step - accuracy: 0.9309 - loss: 0.1977\n",
            "Epoch 5/15\n",
            "\u001b[1m106/106\u001b[0m \u001b[32m━━━━━━━━━━━━━━━━━━━━\u001b[0m\u001b[37m\u001b[0m \u001b[1m15s\u001b[0m 143ms/step - accuracy: 0.9495 - loss: 0.1466\n",
            "Epoch 6/15\n",
            "\u001b[1m106/106\u001b[0m \u001b[32m━━━━━━━━━━━━━━━━━━━━\u001b[0m\u001b[37m\u001b[0m \u001b[1m15s\u001b[0m 142ms/step - accuracy: 0.9572 - loss: 0.1203\n",
            "Epoch 7/15\n",
            "\u001b[1m106/106\u001b[0m \u001b[32m━━━━━━━━━━━━━━━━━━━━\u001b[0m\u001b[37m\u001b[0m \u001b[1m15s\u001b[0m 140ms/step - accuracy: 0.9693 - loss: 0.0932\n",
            "Epoch 8/15\n",
            "\u001b[1m106/106\u001b[0m \u001b[32m━━━━━━━━━━━━━━━━━━━━\u001b[0m\u001b[37m\u001b[0m \u001b[1m14s\u001b[0m 135ms/step - accuracy: 0.9757 - loss: 0.0674\n",
            "Epoch 9/15\n",
            "\u001b[1m106/106\u001b[0m \u001b[32m━━━━━━━━━━━━━━━━━━━━\u001b[0m\u001b[37m\u001b[0m \u001b[1m14s\u001b[0m 134ms/step - accuracy: 0.9750 - loss: 0.0739\n",
            "Epoch 10/15\n",
            "\u001b[1m106/106\u001b[0m \u001b[32m━━━━━━━━━━━━━━━━━━━━\u001b[0m\u001b[37m\u001b[0m \u001b[1m15s\u001b[0m 138ms/step - accuracy: 0.9798 - loss: 0.0568\n",
            "Epoch 11/15\n",
            "\u001b[1m106/106\u001b[0m \u001b[32m━━━━━━━━━━━━━━━━━━━━\u001b[0m\u001b[37m\u001b[0m \u001b[1m15s\u001b[0m 141ms/step - accuracy: 0.9861 - loss: 0.0452\n",
            "Epoch 12/15\n",
            "\u001b[1m106/106\u001b[0m \u001b[32m━━━━━━━━━━━━━━━━━━━━\u001b[0m\u001b[37m\u001b[0m \u001b[1m14s\u001b[0m 133ms/step - accuracy: 0.9838 - loss: 0.0573\n",
            "Epoch 13/15\n",
            "\u001b[1m106/106\u001b[0m \u001b[32m━━━━━━━━━━━━━━━━━━━━\u001b[0m\u001b[37m\u001b[0m \u001b[1m15s\u001b[0m 138ms/step - accuracy: 0.9913 - loss: 0.0287\n",
            "Epoch 14/15\n",
            "\u001b[1m106/106\u001b[0m \u001b[32m━━━━━━━━━━━━━━━━━━━━\u001b[0m\u001b[37m\u001b[0m \u001b[1m17s\u001b[0m 155ms/step - accuracy: 0.9917 - loss: 0.0278\n",
            "Epoch 15/15\n",
            "\u001b[1m106/106\u001b[0m \u001b[32m━━━━━━━━━━━━━━━━━━━━\u001b[0m\u001b[37m\u001b[0m \u001b[1m16s\u001b[0m 154ms/step - accuracy: 0.9904 - loss: 0.0285\n",
            "Restoring model weights from the end of the best epoch: 15.\n"
          ]
        },
        {
          "name": "stderr",
          "output_type": "stream",
          "text": [
            "WARNING:absl:You are saving your model as an HDF5 file via `model.save()` or `keras.saving.save_model(model)`. This file format is considered legacy. We recommend using instead the native Keras format, e.g. `model.save('my_model.keras')` or `keras.saving.save_model(model, 'my_model.keras')`. \n"
          ]
        },
        {
          "name": "stdout",
          "output_type": "stream",
          "text": [
            "Re-training finished in 228.20 seconds.\n",
            "Saving re-trained model to final_best_sentiment_model--TRUE_TRUE.h5\n"
          ]
        },
        {
          "data": {
            "image/png": "[encoded data removed]",
            "text/plain": [
              "<Figure size 800x500 with 1 Axes>"
            ]
          },
          "metadata": {},
          "output_type": "display_data"
        }
      ],
      "source": [
        "final_model = None # Initialize final_model\n",
        "\n",
        "if not LOAD_PRETRAINED_MODEL:\n",
        "    if best_hps is not None and 'X_train_val' in locals() and X_train_val.size > 0:\n",
        "        print(\"\\nRe-training the best model on the combined training and validation data...\")\n",
        "        # Build a new model instance with the best hyperparameters\n",
        "        final_model = build_model(best_hps)\n",
        "\n",
        "        retrain_epochs = 15 # Allow potentially more epochs on combined data\n",
        "        retrain_early_stopping = EarlyStopping(\n",
        "            monitor='loss', # Monitor training loss as there's no separate val_loss\n",
        "            patience=3,\n",
        "            verbose=1,\n",
        "            restore_best_weights=True # Restore based on training loss minimum\n",
        "        )\n",
        "\n",
        "        print(f\"Re-training for up to {retrain_epochs} epochs...\")\n",
        "        start_time = time.time()\n",
        "        history_final = final_model.fit(\n",
        "            X_train_val, y_train_val, # Use combined data\n",
        "            epochs=retrain_epochs,\n",
        "            batch_size=64,\n",
        "            callbacks=[retrain_early_stopping],\n",
        "            verbose=1\n",
        "        )\n",
        "        end_time = time.time()\n",
        "        print(f\"Re-training finished in {end_time - start_time:.2f} seconds.\")\n",
        "\n",
        "        # Save the re-trained model\n",
        "        print(f\"Saving re-trained model to {SAVED_MODEL_PATH}\")\n",
        "        final_model.save(SAVED_MODEL_PATH)\n",
        "\n",
        "        # Plot re-training history (only shows training loss/accuracy)\n",
        "        if history_final and history_final.history:\n",
        "             pd.DataFrame(history_final.history).plot(figsize=(8, 5))\n",
        "             plt.title(\"Re-training History (on Train+Val Data)\")\n",
        "             plt.xlabel(\"Epoch\")\n",
        "             plt.ylabel(\"Metric Value\")\n",
        "             plt.grid(True)\n",
        "             plt.show()\n",
        "\n",
        "    elif best_model_from_tuner is not None:\n",
        "         print(\"\\nWarning: Re-training skipped (no best HPs or combined data?). Using best model directly from tuner search.\")\n",
        "         final_model = best_model_from_tuner # Fallback to model from tuner\n",
        "         # Save this model if it wasn't saved already\n",
        "         print(f\"Saving best model from tuner search to {SAVED_MODEL_PATH}\")\n",
        "         final_model.save(SAVED_MODEL_PATH)\n",
        "    else:\n",
        "        print(\"Error: Cannot re-train model (tuning might have failed or data is missing).\")"
      ]
    },
    {
      "cell_type": "markdown",
      "metadata": {
        "id": "HQFJ5njhupjl"
      },
      "source": [
        "## 4. Load Model and Evaluate (or Load Pre-trained)\n",
        "\n",
        "Load the final trained model (either re-trained or loaded from file) and evaluate its performance on the unseen test set."
      ]
    },
    {
      "cell_type": "code",
      "execution_count": null,
      "metadata": {
        "id": "sfhwOxScTmG4"
      },
      "outputs": [],
      "source": [
        "# --- Load Model Section ---\n",
        "if LOAD_PRETRAINED_MODEL:\n",
        "    print(f\"\\nLoading pre-trained model from {SAVED_MODEL_PATH}...\")\n",
        "    if os.path.exists(SAVED_MODEL_PATH) and os.path.exists(SAVED_TOKENIZER_PATH) and os.path.exists(SAVED_PARAMS_PATH):\n",
        "        try:\n",
        "            final_model = load_model(SAVED_MODEL_PATH)\n",
        "            print(\"Model loaded successfully.\")\n",
        "            with open(SAVED_TOKENIZER_PATH, 'rb') as handle:\n",
        "                tokenizer = pickle.load(handle)\n",
        "            print(\"Tokenizer loaded successfully.\")\n",
        "            with open(SAVED_PARAMS_PATH, 'r') as f:\n",
        "                loaded_params = json.load(f)\n",
        "            max_length = loaded_params['max_length']\n",
        "            actual_vocab_size = loaded_params['actual_vocab_size']\n",
        "            print(f\"Model parameters loaded (max_length={max_length}, vocab_size={actual_vocab_size}).\")\n",
        "\n",
        "            # Assume X_test, y_test might exist from a previous partial run\n",
        "            # Or handle error if they don't exist.\n",
        "            if 'X_test' not in locals() or 'y_test' not in locals():\n",
        "                 print(\"Warning: Loading pre-trained model, but test data (X_test, y_test) not found in current session.\")\n",
        "                 print(\"Re-run the data loading/splitting cells (with LOAD_PRETRAINED_MODEL=False) first, or manually load test data.\")\n",
        "                 # Set test data to empty to prevent evaluation errors\n",
        "                 X_test, y_test = np.array([]), np.array([])\n",
        "\n",
        "        except Exception as e:\n",
        "            print(f\"Error loading pre-trained model or components: {e}\")\n",
        "            final_model = None; tokenizer = None; max_length = 1; actual_vocab_size = 1\n",
        "            X_test, y_test = np.array([]), np.array([])\n",
        "    else:\n",
        "        print(\"Error: One or more required files not found for loading pre-trained model.\")\n",
        "        print(f\"Ensure '{SAVED_MODEL_PATH}', '{SAVED_TOKENIZER_PATH}', and '{SAVED_PARAMS_PATH}' exist.\")\n",
        "        final_model = None; tokenizer = None; max_length = 1; actual_vocab_size = 1\n",
        "        X_test, y_test = np.array([]), np.array([])\n",
        "\n",
        "elif 'final_model' not in locals() or final_model is None:\n",
        "    print(\"Error: No final model available (training might have failed). Skipping evaluation.\")\n",
        "    X_test, y_test = np.array([]), np.array([]) # Ensure test vars are defined"
      ]
    },
    {
      "cell_type": "code",
      "execution_count": null,
      "metadata": {
        "colab": {
          "base_uri": "https://localhost:8080/"
        },
        "id": "hzjjopivupjm",
        "outputId": "d8f5249f-cb4f-4614-91be-b1f86bc5fa8f"
      },
      "outputs": [
        {
          "name": "stdout",
          "output_type": "stream",
          "text": [
            "\n",
            "Evaluating the final model on the test set...\n",
            "\u001b[1m38/38\u001b[0m \u001b[32m━━━━━━━━━━━━━━━━━━━━\u001b[0m\u001b[37m\u001b[0m \u001b[1m2s\u001b[0m 30ms/step - accuracy: 0.7789 - loss: 1.0505\n",
            "\n",
            "Test Loss (Final Model): 0.9176\n",
            "Test Accuracy (Final Model): 0.8020\n",
            "\u001b[1m38/38\u001b[0m \u001b[32m━━━━━━━━━━━━━━━━━━━━\u001b[0m\u001b[37m\u001b[0m \u001b[1m1s\u001b[0m 28ms/step\n",
            "\n",
            "Classification Report (Final Model):\n",
            "              precision    recall  f1-score   support\n",
            "\n",
            "    Negative       0.81      0.78      0.80       599\n",
            "    Positive       0.79      0.82      0.81       598\n",
            "\n",
            "    accuracy                           0.80      1197\n",
            "   macro avg       0.80      0.80      0.80      1197\n",
            "weighted avg       0.80      0.80      0.80      1197\n",
            "\n"
          ]
        },
        {
          "data": {
            "image/png": "[encoded data removed]",
            "text/plain": [
              "<Figure size 600x500 with 2 Axes>"
            ]
          },
          "metadata": {},
          "output_type": "display_data"
        }
      ],
      "source": [
        "# --- Evaluation Section ---\n",
        "test_accuracy = \"N/A\" # Default value\n",
        "if 'final_model' in locals() and final_model is not None and 'X_test' in locals() and X_test.size > 0:\n",
        "    print(\"\\nEvaluating the final model on the test set...\")\n",
        "    test_loss, test_accuracy_val = final_model.evaluate(X_test, y_test, verbose=1)\n",
        "    test_accuracy = f\"{test_accuracy_val:.4f}\" # Store as string for report\n",
        "    print(f\"\\nTest Loss (Final Model): {test_loss:.4f}\")\n",
        "    print(f\"Test Accuracy (Final Model): {test_accuracy_val:.4f}\")\n",
        "\n",
        "    # Generate predictions\n",
        "    y_pred_prob = final_model.predict(X_test)\n",
        "    y_pred = (y_pred_prob > 0.5).astype(int).flatten()\n",
        "\n",
        "    # Classification Report\n",
        "    print(\"\\nClassification Report (Final Model):\")\n",
        "    print(classification_report(y_test, y_pred, target_names=['Negative', 'Positive']))\n",
        "\n",
        "    # Confusion Matrix\n",
        "    cm = confusion_matrix(y_test, y_pred)\n",
        "    plt.figure(figsize=(6, 5))\n",
        "    sns.heatmap(cm, annot=True, fmt='d', cmap='Blues',\n",
        "                xticklabels=['Negative', 'Positive'],\n",
        "                yticklabels=['Negative', 'Positive'])\n",
        "    plt.title('Confusion Matrix (Final Model)')\n",
        "    plt.ylabel('Actual Sentiment')\n",
        "    plt.xlabel('Predicted Sentiment')\n",
        "    plt.show()\n",
        "else:\n",
        "    print(\"Skipping evaluation as final model or test data is not available.\")"
      ]
    },
    {
      "cell_type": "markdown",
      "metadata": {
        "id": "9g_ffTs9upjm"
      },
      "source": [
        "## 5. Model Inference\n",
        "\n",
        "Use the **final model** (loaded or trained) to predict the sentiment of new text inputs."
      ]
    },
    {
      "cell_type": "code",
      "execution_count": null,
      "metadata": {
        "colab": {
          "base_uri": "https://localhost:8080/"
        },
        "id": "TZOXQEMMupjn",
        "outputId": "f2f12701-d0a3-4aac-a2c3-b247c1e4a7a7"
      },
      "outputs": [
        {
          "name": "stdout",
          "output_type": "stream",
          "text": [
            "Overwriting predict.py\n"
          ]
        }
      ],
      "source": [
        "%%writefile predict.py\n",
        "\n",
        "from preprocess import *\n",
        "\n",
        "def predict_sentiment(text, model_to_use, tokenizer_to_use, max_len, sym_spell, preprocessing_params):\n",
        "    \"\"\"\n",
        "    Predicts the sentiment of a given text using the trained model.\n",
        "    Also returns the preprocessed text.\n",
        "\n",
        "    Args:\n",
        "        text (str): The input text (review).\n",
        "        model_to_use: The trained Keras model.\n",
        "        tokenizer_to_use: The fitted Keras Tokenizer.\n",
        "        max_len (int): The maximum sequence length used for padding.\n",
        "\n",
        "    Returns:\n",
        "        tuple: (sentiment_label, confidence_score, preprocessed_text)\n",
        "    \"\"\"\n",
        "    if not model_to_use or not tokenizer_to_use:\n",
        "        print(\"Error: Model or tokenizer not available for prediction.\")\n",
        "        return \"Error\", 0.0, \"\"\n",
        "\n",
        "    # 1. Preprocess the input text using the *same* pipeline settings\n",
        "    cleaned = preprocess_text_pipeline(\n",
        "        text,\n",
        "        # sym_spell_instance=preprocessing_params['sym_spell'],\n",
        "        sym_spell_instance=sym_spell,\n",
        "        use_spelling=preprocessing_params['use_spelling'],\n",
        "        use_negation_handling=preprocessing_params['use_negation_handling'],\n",
        "        use_stopwords=preprocessing_params['use_stopwords'],\n",
        "        use_lemmatization=preprocessing_params['use_lemmatization']\n",
        "    )\n",
        "\n",
        "    # 2. Convert text to sequence\n",
        "    sequence = tokenizer_to_use.texts_to_sequences([cleaned])\n",
        "\n",
        "    # 3. Pad the sequence\n",
        "    padded = pad_sequences(sequence, maxlen=max_len, padding='post', truncating='post')\n",
        "\n",
        "    # 4. Make prediction\n",
        "    prediction = model_to_use.predict(padded, verbose=0)[0][0]\n",
        "\n",
        "    # 5. Determine label and confidence\n",
        "    if prediction >= 0.5:\n",
        "        sentiment = \"POSITIVE\"\n",
        "        confidence = prediction\n",
        "    else:\n",
        "        sentiment = \"NEGATIVE\"\n",
        "        confidence = 1 - prediction\n",
        "\n",
        "    return sentiment, confidence, cleaned # Return cleaned text as well"
      ]
    },
    {
      "cell_type": "markdown",
      "metadata": {
        "id": "XAr2nr0Iupjn"
      },
      "source": [
        "### 5.1 Test Inference Function\n",
        "\n",
        "Test the `predict_sentiment` function with example sentences using the final model."
      ]
    },
    {
      "cell_type": "code",
      "execution_count": null,
      "metadata": {
        "colab": {
          "base_uri": "https://localhost:8080/"
        },
        "id": "SCcV7pSBupjn",
        "outputId": "a57e485f-822d-466a-b475-8d290d854765"
      },
      "outputs": [
        {
          "name": "stdout",
          "output_type": "stream",
          "text": [
            "\n",
            "Testing inference on new reviews using the final model...\n",
            "\n",
            "Applying text preprocessing pipeline...\n",
            "Settings: Spelling=True, Negation Handling=True, Stopwords=True, Lemmatization=True\n",
            "\n",
            "Original: \"This product is absolutely fantastic! Best purchase I've made all year....\"\n",
            "Preprocessed: \"product absolutely fantastic best purchase made year...\"\n",
            "Predicted Sentiment: POSITIVE (Confidence: 1.000)\n",
            "\n",
            "Original: \"I was very happy with the quality and the fast delivery. Highly recommended!...\"\n",
            "Preprocessed: \"happy quality fast delivery highly recommended...\"\n",
            "Predicted Sentiment: POSITIVE (Confidence: 1.000)\n",
            "\n",
            "Original: \"Terrible quality, broke after just one use. Complete waste of money....\"\n",
            "Preprocessed: \"terrible quality broke one use complete waste money...\"\n",
            "Predicted Sentiment: NEGATIVE (Confidence: 1.000)\n",
            "\n",
            "Original: \"I am extremely disappointed with this item and the customer service was unhelpfu...\"\n",
            "Preprocessed: \"extremely disappointed item customer service unhelpful...\"\n",
            "Predicted Sentiment: NEGATIVE (Confidence: 0.998)\n",
            "\n",
            "Original: \"This is not bad at all, quite good actually....\"\n",
            "Preprocessed: \"not_bad quite good actually...\"\n",
            "Predicted Sentiment: NEGATIVE (Confidence: 0.922)\n",
            "\n",
            "Original: \"I was not disappointed with this purchase....\"\n",
            "Preprocessed: \"not_disappointed purchase...\"\n",
            "Predicted Sentiment: NEGATIVE (Confidence: 0.992)\n",
            "\n",
            "Original: \"This isn't the best product, but it's certainly not the worst....\"\n",
            "Preprocessed: \"not_best product certainly not_worst...\"\n",
            "Predicted Sentiment: NEGATIVE (Confidence: 0.969)\n",
            "\n",
            "Original: \"Never had such a terrible experience before....\"\n",
            "Preprocessed: \"never_terrible experience...\"\n",
            "Predicted Sentiment: NEGATIVE (Confidence: 0.990)\n",
            "\n",
            "Original: \"The qaulity is amazing for the price point....\"\n",
            "Preprocessed: \"quality amazing price point...\"\n",
            "Predicted Sentiment: POSITIVE (Confidence: 0.993)\n",
            "\n",
            "Original: \"Very dissapointed with the item recived....\"\n",
            "Preprocessed: \"disappointed item received...\"\n",
            "Predicted Sentiment: NEGATIVE (Confidence: 0.993)\n",
            "\n",
            "------------------------------\n",
            "Note on Negation Handling Results:\n",
            "Observe the predictions for sentences like 'not bad at all' or 'not disappointed'.\n",
            "If the model predicts 'Negative' for these, it indicates it hasn't fully learned\n",
            "to interpret the combined negation tokens (e.g., 'not_bad') correctly as positive.\n",
            "This is a common challenge and may require more advanced techniques or model architectures.\n",
            "------------------------------\n"
          ]
        }
      ],
      "source": [
        "import predict\n",
        "reload(predict)\n",
        "from predict import *\n",
        "\n",
        "# Check if the final model and tokenizer are available\n",
        "if 'final_model' in locals() and final_model is not None and 'tokenizer' in locals() and tokenizer is not None:\n",
        "    print(\"\\nTesting inference on new reviews using the final model...\")\n",
        "    test_reviews = [\n",
        "        # Positive Examples\n",
        "        \"This product is absolutely fantastic! Best purchase I've made all year.\",\n",
        "        \"I was very happy with the quality and the fast delivery. Highly recommended!\",\n",
        "        # Negative Examples\n",
        "        \"Terrible quality, broke after just one use. Complete waste of money.\",\n",
        "        \"I am extremely disappointed with this item and the customer service was unhelpful.\",\n",
        "        # Examples with Negation\n",
        "        \"This is not bad at all, quite good actually.\",\n",
        "        \"I was not disappointed with this purchase.\",\n",
        "        \"This isn't the best product, but it's certainly not the worst.\",\n",
        "        \"Never had such a terrible experience before.\",\n",
        "        # Examples with potential spelling errors (if correction enabled)\n",
        "        \"The qaulity is amazing for the price point.\",\n",
        "        \"Very dissapointed with the item recived.\"\n",
        "    ]\n",
        "\n",
        "    print(\"\\nApplying text preprocessing pipeline...\")\n",
        "    print(f\"Settings: Spelling={APPLY_SPELLING_CORRECTION}, Negation Handling={HANDLE_NEGATION_TOKENS}, Stopwords={REMOVE_STOPWORDS}, Lemmatization={APPLY_LEMMATIZATION}\\n\")\n",
        "\n",
        "    preprocessing_params = {\n",
        "        # 'sym_spell': sym_spell,\n",
        "        'use_spelling': APPLY_SPELLING_CORRECTION,\n",
        "        'use_negation_handling': HANDLE_NEGATION_TOKENS,\n",
        "        'use_stopwords': REMOVE_STOPWORDS,\n",
        "        'use_lemmatization': APPLY_LEMMATIZATION\n",
        "    }\n",
        "\n",
        "    for review in test_reviews:\n",
        "        sentiment, confidence, preprocessed = predict_sentiment(review, final_model, tokenizer, max_length, sym_spell, preprocessing_params)\n",
        "        print(f\"Original: \\\"{review[:80]}...\\\"\")\n",
        "        print(f\"Preprocessed: \\\"{preprocessed[:80]}...\\\"\")\n",
        "        print(f\"Predicted Sentiment: {sentiment} (Confidence: {confidence:.3f})\\n\")\n",
        "\n",
        "    print(\"-\" * 30)\n",
        "    print(\"Note on Negation Handling Results:\")\n",
        "    print(\"Observe the predictions for sentences like 'not bad at all' or 'not disappointed'.\")\n",
        "    print(\"If the model predicts 'Negative' for these, it indicates it hasn't fully learned\")\n",
        "    print(\"to interpret the combined negation tokens (e.g., 'not_bad') correctly as positive.\")\n",
        "    print(\"This is a common challenge and may require more advanced techniques or model architectures.\")\n",
        "    print(\"-\" * 30)\n",
        "\n",
        "else:\n",
        "    print(\"Final model or tokenizer not available. Skipping inference test.\")"
      ]
    },
    {
      "cell_type": "markdown",
      "metadata": {
        "id": "lbsn0MvCupjn"
      },
      "source": [
        "## 6. Conclusion and Ethical Considerations\n",
        "\n",
        "Summary of the project and discussion of ethical aspects related to sentiment analysis."
      ]
    },
    {
      "cell_type": "markdown",
      "metadata": {
        "id": "nK95hLAXupjn"
      },
      "source": [
        "### 6.1 Project Summary\n",
        "\n",
        "This project successfully implemented and optimized a sentiment analysis model for Amazon product reviews using a Bidirectional LSTM network. Key steps included:\n",
        "\n",
        "1.  **Data Acquisition & Setup:** Downloaded and extracted the dataset, installed necessary libraries (`symspellpy`, `keras-tuner`), and prepared the spelling correction dictionary. Added an option to load a pre-trained model to bypass setup and training.\n",
        "2.  **Focused Preprocessing:** Loaded data focusing only on `<review_text>`, cleaned the text, handled outliers, and implemented configurable preprocessing steps including SymSpellPy spelling correction, negation handling (token combination), stopword removal (preserving negations), and lemmatization. Saved the tokenizer and key parameters (`max_length`, `vocab_size`) for consistent inference.\n",
        "3.  **Automated Hyperparameter Tuning:** Utilized Keras Tuner (`RandomSearch`) to systematically explore different combinations of `embedding_dim`, `lstm_units`, dropout rates, and `learning_rate` to find an optimal model configuration.\n",
        "4.  **Model Re-training:** Re-trained the best model architecture found by the tuner on the combined training and validation dataset (`X_train_val`) for potential performance improvement and saved the final model.\n",
        "5.  **Evaluation:** Assessed the performance of the final model on a held-out test set using accuracy, classification report, and confusion matrix.\n",
        "6.  **Inference:** Developed and tested a function to predict the sentiment of new, unseen text inputs using the final optimized model and the corresponding preprocessing pipeline, also returning the preprocessed text.\n",
        "\n",
        "The Keras Tuner identified optimal hyperparameters, and the final re-trained model achieved a test accuracy of `80.2%`. This demonstrates the effectiveness of automated tuning and re-training. The final performance also depends heavily on the chosen preprocessing steps (spelling correction, negation handling, stopwords, lemmatization). Issues with correctly interpreting negated phrases (e.g., \"not bad\") were observed, highlighting limitations of the current approach for complex semantic understanding."
      ]
    },
    {
      "cell_type": "markdown",
      "metadata": {
        "id": "2MGlTis_xGbm"
      },
      "source": [
        "### 6.2 Ethical Considerations\n",
        "\n",
        "It is crucial to consider the ethical implications of sentiment analysis:\n",
        "\n",
        "* **Bias in Data:** The training data (Amazon reviews) may reflect biases present in the reviewers or the platform (e.g., demographic bias, product category bias, prevalence of extreme opinions). This can lead to the model performing unfairly or inaccurately for certain groups or types of reviews. The original data labeling (positive/negative) itself might have biases that the model learns. Spelling correction (even improved ones like SymSpellPy) might also introduce bias if it performs differently on text written by different demographic groups or corrects culturally specific terms incorrectly.\n",
        "* **Context and Nuance:** Sentiment analysis models, especially simpler architectures like LSTMs, often struggle with sarcasm, irony, conditional statements, or culturally specific expressions. A simplistic positive/negative classification might misinterpret complex human emotions and opinions. As observed, handling negation effectively remains a challenge.\n",
        "* **Misinformation and Manipulation:** Sentiment analysis could be misused to automatically suppress negative feedback, artificially inflate product reputations, or manipulate public opinion.\n",
        "* **Fairness and Transparency:** It's important to be transparent about the model's capabilities and limitations, including the hyperparameters found and the preprocessing steps used. Confidence scores should be provided, and users should understand that the output is a prediction, not a definitive judgment. Ensuring the model treats different viewpoints fairly is an ongoing challenge.\n",
        "* **Privacy:** Analyzing user-generated content requires adherence to privacy regulations and ethical handling of potentially sensitive information within reviews.\n",
        "\n",
        "As data science practitioners, we have a responsibility to develop and deploy AI systems like this one ethically, being mindful of potential harms and striving for fairness, transparency, and accountability. Continuous monitoring, evaluation for bias, and refinement are necessary to mitigate risks and improve robustness."
      ]
    },
    {
      "cell_type": "markdown",
      "metadata": {
        "id": "GAYYqVUlGNgH"
      },
      "source": [
        "## 7. Web User Interface"
      ]
    },
    {
      "cell_type": "code",
      "execution_count": null,
      "metadata": {
        "colab": {
          "base_uri": "https://localhost:8080/"
        },
        "id": "0Va2ZJ-BPHcP",
        "outputId": "3b28bef0-d3f1-40f6-8a1b-b96a9149af4e"
      },
      "outputs": [
        {
          "name": "stdout",
          "output_type": "stream",
          "text": [
            "Overwriting app.py\n"
          ]
        }
      ],
      "source": [
        "%%writefile app.py\n",
        "\n",
        "# ----------------------------------\n",
        "# IMPORTS\n",
        "# ----------------------------------\n",
        "from predict import *\n",
        "import base64\n",
        "import html\n",
        "\n",
        "# ----------------------------------\n",
        "# STREAMLIT PAGE SETUP\n",
        "# ----------------------------------\n",
        "st.set_page_config(layout=\"centered\")\n",
        "\n",
        "# ----------------------------------\n",
        "# GLOBAL CONSTANTS AND CONFIGURATIONS DEFINED IN THIS SCRIPT\n",
        "# (Other constants like APPLY_SPELLING_CORRECTION, SAVED_MODEL_PATH etc. are assumed to be imported from predict.py)\n",
        "# ----------------------------------\n",
        "MIN_WORDS_FOR_ANALYSIS = 5  # Minimum word count for analysis\n",
        "\n",
        "# Paths for model, tokenizer, and parameters are set using variables from predict.py\n",
        "MODEL_PATH = SAVED_MODEL_PATH\n",
        "TOKENIZER_PATH = SAVED_TOKENIZER_PATH\n",
        "PARAMS_PATH = SAVED_PARAMS_PATH\n",
        "LOGO_PATH = \"Torrens Logo.jpeg\"\n",
        "\n",
        "# Team member information for display\n",
        "TEAM_MEMBERS = [\n",
        "    {\"name\": \"Jay-ar Anacleto Agbayani\", \"id\": \"A00120503\", \"image\": \"Jay.jpeg\"},\n",
        "    {\"name\": \"Archkymuel Ilao Bautista\", \"id\": \"A00116734\", \"image\": \"Arki.jpeg\"},\n",
        "    {\"name\": \"Nguyen Bui\", \"id\": \"A00128444\", \"image\": \"Lux.jpeg\"},\n",
        "    {\"name\": \"Hoang Tuan Ngo\", \"id\": \"A00094718\", \"image\": \"Tuan.jpeg\"},\n",
        "]\n",
        "\n",
        "# ----------------------------------\n",
        "# INITIALIZATION OF EXTERNAL RESOURCES\n",
        "# ----------------------------------\n",
        "# Initialize the SymSpell object for spelling correction.\n",
        "# init_sympspell and APPLY_SPELLING_CORRECTION are from predict.py\n",
        "sym_spell = init_sympspell(APPLY_SPELLING_CORRECTION)\n",
        "\n",
        "# ----------------------------------\n",
        "# HELPER FUNCTIONS\n",
        "# ----------------------------------\n",
        "# Encodes an image file to a base64 string for embedding in HTML.\n",
        "def get_base64_of_img(file_path):\n",
        "    if not os.path.exists(file_path):\n",
        "        print(f\"Image not found: {file_path}\")\n",
        "        return None\n",
        "    try:\n",
        "        with open(file_path, \"rb\") as img_file:\n",
        "            return base64.b64encode(img_file.read()).decode('utf-8')\n",
        "    except Exception as e:\n",
        "        print(f\"Error encoding image {file_path}: {e}\")\n",
        "        return None\n",
        "\n",
        "# ----------------------------------\n",
        "# CUSTOM CSS STYLING\n",
        "# ----------------------------------\n",
        "# Apply custom CSS for styling the application components.\n",
        "st.markdown(\n",
        "    \"\"\"\n",
        "    <style>\n",
        "        /* Import Poppins Font */\n",
        "        @import url('https://fonts.googleapis.com/css2?family=Poppins:wght@400;500;600;700&display=swap');\n",
        "        body, .stApp, h1, h2, h3, h4, h5, h6, p, div, span, label, button, input, textarea, select {\n",
        "            font-family: 'Poppins', sans-serif;\n",
        "        }\n",
        "        .stButton>button, .stDownloadButton>button, .stTextInput input, .stTextArea textarea, .stSelectbox div[data-baseweb=\"select\"] > div {\n",
        "            font-family: 'Poppins', sans-serif;\n",
        "        }\n",
        "\n",
        "        div.block-container { /* Main content container */\n",
        "            max-width: 960px;\n",
        "        }\n",
        "\n",
        "        /* Styling for the sentiment result display box */\n",
        "        .result-box {\n",
        "            border: 1px solid #e0e0e0; border-radius: 10px; padding: 15px;\n",
        "            text-align: center;\n",
        "            min-height: 150px; /* Ensure consistent height */\n",
        "            height: 150px;     /* Fixed height */\n",
        "            display: flex; flex-direction: column;\n",
        "            justify-content: center; /* Center content vertically */\n",
        "        }\n",
        "        .result-box h2 { /* Sentiment label (Positive/Negative) */\n",
        "            margin-top: 0;\n",
        "            margin-bottom: 5px;\n",
        "        }\n",
        "        .positive-bg { background-color: #d4edda; color: #155724; } /* Background for positive sentiment */\n",
        "        .negative-bg { background-color: #f8d7da; color: #721c24; } /* Background for negative sentiment */\n",
        "\n",
        "        /* Styling for the analyze button container and button */\n",
        "        .analyze-button-container { margin-top: 10px; }\n",
        "        .analyze-button-container button {\n",
        "            background-color: #87CEEB; color: black; border: 1px solid #7AC5E4;\n",
        "            border-radius: 5px; padding: 0.5em 1em;\n",
        "        }\n",
        "        .analyze-button-container button:hover { background-color: #7AC5E4; color: black; border: 1px solid #6AB0D0; }\n",
        "        .analyze-button-container button:active { background-color: #6AB0D0; color: black; border: 1px solid #5A9CBC; }\n",
        "\n",
        "        /* Styling for individual items in the analysis history */\n",
        "        .history-item {\n",
        "            margin-bottom: 5px; padding: 8px; border-radius: 5px; display: flex;\n",
        "            justify-content: space-between; align-items: center; border: 1px solid #eee;\n",
        "        }\n",
        "        .history-text { /* Analyzed text in history */\n",
        "            flex-grow: 1; margin-right: 10px; overflow: hidden;\n",
        "            text-overflow: ellipsis; word-break: break-word;\n",
        "        }\n",
        "        .history-text-positive { color: #272727; } /* Text color for positive history items */\n",
        "        .history-text-negative { color: #272727; } /* Text color for negative history items */\n",
        "        .history-sentiment { /* Sentiment and confidence in history */\n",
        "            font-weight: bold; color: #272727; white-space: nowrap; flex-shrink: 0;\n",
        "        }\n",
        "        .history-positive-bg { background-color: #d4edda; } /* Background for positive history items */\n",
        "        .history-negative-bg { background-color: #f8d7da; } /* Background for negative history items */\n",
        "\n",
        "        /* Styling for the scrollable history box */\n",
        "        .scrollable-history-box {\n",
        "            height: 300px; overflow-y: auto; border: 1px solid #dee2e6;\n",
        "            border-radius: 5px; padding: 10px; margin-top: 10px; background-color: #ffffff;\n",
        "        }\n",
        "\n",
        "        /* MODIFIED: Team Member Styling - Remove box and background */\n",
        "        /* General container for a team member's card - note: .team-member-container was added in HTML */\n",
        "        .team-member-container {\n",
        "            display: flex; /* Aligns image and details side-by-side */\n",
        "            align-items: center; /* Vertically aligns items in the center */\n",
        "            margin-bottom: 10px; /* Space below each member card */\n",
        "            /* Removed border and background for a cleaner look */\n",
        "        }\n",
        "        .team-member-img-placeholder { /* Placeholder if image is missing */\n",
        "            width: 40px; height: 40px;\n",
        "            border-radius: 50%; background-color: #ccc;\n",
        "            display: flex; align-items: center; justify-content: center;\n",
        "            color: #fff; font-size: 1em;\n",
        "            flex-shrink: 0; /* Prevents shrinking */\n",
        "            margin-left: 10px; /* Added margin to separate from text if details are on left */\n",
        "        }\n",
        "        .team-member-details { /* Container for name and ID */\n",
        "            display: flex; flex-direction: column;\n",
        "            margin-right: 10px; /* Space between details and image (if image is on the right) */\n",
        "            flex-grow: 1; /* Allows details to take available space */\n",
        "        }\n",
        "        .team-member-name { font-weight: bold; font-size: 0.8em; }\n",
        "        .team-member-id { font-size: 0.7em; color: #555; }\n",
        "        .team-member-img { /* Actual team member image */\n",
        "            width: 40px; height: 40px;\n",
        "            border-radius: 50%; object-fit: cover;\n",
        "            flex-shrink: 0; /* Prevents shrinking */\n",
        "        }\n",
        "        /* End MODIFIED Team Member Styling */\n",
        "\n",
        "        /* Styling for the application header (logo and course text) */\n",
        "        .app-header {\n",
        "            display: flex;\n",
        "            justify-content: space-between; /* Pushes logo and text to opposite ends */\n",
        "            align-items: center; /* Vertically aligns items */\n",
        "            margin-bottom: 20px; /* Space below the header */\n",
        "        }\n",
        "        .header-text { /* Text in the header (e.g., course name) */\n",
        "            text-align: right;\n",
        "            font-size: 1.1em;\n",
        "            font-weight: 500;\n",
        "            color: #333;\n",
        "        }\n",
        "    </style>\n",
        "    \"\"\",\n",
        "    unsafe_allow_html=True,\n",
        ")\n",
        "\n",
        "# ----------------------------------\n",
        "# RESOURCE LOADING FUNCTION (CACHED)\n",
        "# ----------------------------------\n",
        "# Loads the sentiment analysis model, tokenizer, and model parameters.\n",
        "# Uses Streamlit's cache to avoid reloading on every interaction.\n",
        "@st.cache_resource\n",
        "def load_resources(model_path, tokenizer_path, params_path):\n",
        "    try:\n",
        "        # Check if resource files exist\n",
        "        if not os.path.exists(model_path):\n",
        "            st.error(f\"Model file not found: {model_path}\")\n",
        "            return None, None, None\n",
        "        if not os.path.exists(tokenizer_path):\n",
        "            st.error(f\"Tokenizer file not found: {tokenizer_path}\")\n",
        "            return None, None, None\n",
        "        if not os.path.exists(params_path):\n",
        "            st.error(f\"Parameters file not found: {params_path}\")\n",
        "            return None, None, None\n",
        "\n",
        "        # Load model parameters (e.g., max_length for padding)\n",
        "        with open(params_path, 'r') as f:\n",
        "            loaded_params = json.load(f)\n",
        "            max_length = loaded_params.get('max_length', 100)\n",
        "\n",
        "        # Load the tokenizer\n",
        "        with open(tokenizer_path, 'rb') as handle:\n",
        "            tokenizer = pickle.load(handle)\n",
        "\n",
        "        # Load the Keras model\n",
        "        model = tf.keras.models.load_model(model_path, compile=False)\n",
        "        return model, tokenizer, max_length\n",
        "    except Exception as e:\n",
        "        st.error(f\"An error occurred during resource loading: {e}\")\n",
        "        return None, None, None\n",
        "\n",
        "# ----------------------------------\n",
        "# SESSION STATE INITIALIZATION & MANAGEMENT\n",
        "# ----------------------------------\n",
        "# Initialize session state variables if they don't already exist.\n",
        "# This helps maintain state across user interactions.\n",
        "\n",
        "# Load model, tokenizer, and max_length into session state if not already loaded\n",
        "if 'model' not in st.session_state or st.session_state.model is None:\n",
        "    model, tokenizer, loaded_max_length = load_resources(MODEL_PATH, TOKENIZER_PATH, PARAMS_PATH)\n",
        "    if model and tokenizer and loaded_max_length:\n",
        "        st.session_state.model = model\n",
        "        st.session_state.tokenizer = tokenizer\n",
        "        st.session_state.loaded_max_length = loaded_max_length\n",
        "    else:\n",
        "        st.session_state.model = None\n",
        "        st.session_state.tokenizer = None\n",
        "        st.session_state.loaded_max_length = None\n",
        "        st.warning(\"Failed to load necessary model resources. Sentiment analysis may not work.\")\n",
        "\n",
        "# Stores the result (sentiment, confidence) of the latest analysis\n",
        "if 'latest_analysis_result' not in st.session_state:\n",
        "    st.session_state.latest_analysis_result = None\n",
        "\n",
        "# Stores a list of past analyses (text, sentiment, confidence)\n",
        "if 'analysis_history' not in st.session_state:\n",
        "    st.session_state.analysis_history = []\n",
        "\n",
        "# Stores the current text in the input text area\n",
        "if 'current_text_widget' not in st.session_state:\n",
        "    st.session_state.current_text_widget = \"\"\n",
        "\n",
        "# ----------------------------------\n",
        "# CORE APPLICATION LOGIC / CALLBACK FUNCTIONS\n",
        "# ----------------------------------\n",
        "# Resets the application state, clearing history and current results.\n",
        "def reset_app():\n",
        "    st.session_state.analysis_history = []\n",
        "    st.session_state.latest_analysis_result = None\n",
        "    st.session_state.current_text_widget = \"\" # Clears the text input area\n",
        "\n",
        "# Analyzes the text entered by the user for sentiment.\n",
        "def analyze_text():\n",
        "    input_text = st.session_state.current_text_widget.strip()\n",
        "\n",
        "    if not input_text:\n",
        "        st.warning(\"Please enter text to analyze.\")\n",
        "        st.session_state.latest_analysis_result = None\n",
        "        return\n",
        "\n",
        "    word_count = len(input_text.split())\n",
        "    if word_count < MIN_WORDS_FOR_ANALYSIS:\n",
        "        st.warning(f\"Please enter at least {MIN_WORDS_FOR_ANALYSIS} words for analysis. You entered {word_count} word(s).\")\n",
        "        st.session_state.latest_analysis_result = None\n",
        "        return\n",
        "\n",
        "    # Define preprocessing parameters to be passed to the prediction function\n",
        "    # Assumes these constants (APPLY_SPELLING_CORRECTION, etc.) are from predict.py\n",
        "    preprocessing_params = {\n",
        "        'use_spelling': APPLY_SPELLING_CORRECTION,\n",
        "        'use_negation_handling': HANDLE_NEGATION_TOKENS,\n",
        "        'use_stopwords': REMOVE_STOPWORDS,\n",
        "        'use_lemmatization': APPLY_LEMMATIZATION\n",
        "    }\n",
        "\n",
        "    if st.session_state.model and st.session_state.tokenizer and st.session_state.loaded_max_length:\n",
        "        # Call the prediction function (from predict.py)\n",
        "        result_tuple = predict_sentiment(\n",
        "            input_text,\n",
        "            st.session_state.model,\n",
        "            st.session_state.tokenizer,\n",
        "            st.session_state.loaded_max_length,\n",
        "            sym_spell, # Pass the initialized SymSpell object\n",
        "            preprocessing_params\n",
        "        )\n",
        "\n",
        "        if result_tuple and result_tuple[0] is not None:\n",
        "            current_sentiment, current_confidence, current_cleaned_text = result_tuple\n",
        "            st.session_state.latest_analysis_result = (current_sentiment, current_confidence)\n",
        "\n",
        "            is_duplicate = False\n",
        "            if st.session_state.analysis_history:\n",
        "                latest_history_item = st.session_state.analysis_history[0]\n",
        "                if latest_history_item['text'] == input_text and latest_history_item['sentiment'] == current_sentiment:\n",
        "                    is_duplicate = True\n",
        "                    st.toast(\"This analysis is identical to the most recent in history.\", icon=\"ℹ️\")\n",
        "\n",
        "            if not is_duplicate:\n",
        "                st.session_state.analysis_history.insert(0, {\n",
        "                    'text': input_text,\n",
        "                    'sentiment': current_sentiment,\n",
        "                    'confidence': current_confidence\n",
        "                })\n",
        "        else:\n",
        "            st.session_state.latest_analysis_result = None\n",
        "            # st.error(\"Sentiment analysis could not be performed for the input text.\")\n",
        "    else:\n",
        "        st.error(\"Cannot analyze text because model resources are not loaded.\")\n",
        "        st.session_state.latest_analysis_result = None\n",
        "\n",
        "# ----------------------------------\n",
        "# USER INTERFACE (UI) LAYOUT\n",
        "# ----------------------------------\n",
        "\n",
        "# --- Header Section ---\n",
        "# Displays the logo and a title at the top.\n",
        "col_logo, col_title_text = st.columns([1, 3])\n",
        "\n",
        "with col_logo:\n",
        "    if os.path.exists(LOGO_PATH): # Uses os.path.exists\n",
        "        st.image(LOGO_PATH, width=150)\n",
        "    else:\n",
        "        print(f\"Logo image not found at {LOGO_PATH}\")\n",
        "        st.caption(\"Logo\") # Fallback text\n",
        "\n",
        "with col_title_text:\n",
        "    st.markdown(\"<div style='text-align: right; margin-top: 20px;'><p class='header-text'>ISY503 Intelligent Systems</p></div>\", unsafe_allow_html=True)\n",
        "# --- End of Header Section ---\n",
        "\n",
        "# Main application title\n",
        "st.markdown(\"<h1 style='text-align:center; margin-top: 20px;'>Sentiment Analysis</h1>\", unsafe_allow_html=True)\n",
        "st.markdown(\"---\") # Horizontal rule\n",
        "\n",
        "# --- Input and Result Display Section ---\n",
        "with st.container():\n",
        "    col1, col2 = st.columns([2, 1])\n",
        "\n",
        "    with col1: # Text input area\n",
        "        st.text_area(\n",
        "            label=\"Input Text Area\",\n",
        "            value=st.session_state.get('current_text_widget', ''),\n",
        "            key='current_text_widget',\n",
        "            height=200,\n",
        "            placeholder=\"Enter text here for sentiment analysis...\",\n",
        "            label_visibility=\"collapsed\" # Hides the label string\n",
        "        )\n",
        "\n",
        "    with col2: # Sentiment result display box\n",
        "        result_to_display = st.session_state.get('latest_analysis_result')\n",
        "        if result_to_display:\n",
        "            sentiment_label, confidence = result_to_display\n",
        "            emoji = \"😊\" if sentiment_label == \"POSITIVE\" else \"😞\"\n",
        "            sentiment_class_bg = \"positive-bg\" if sentiment_label == \"POSITIVE\" else \"negative-bg\"\n",
        "            progress_fill_color = '#28a745' if sentiment_label == \"POSITIVE\" else '#dc3545'\n",
        "\n",
        "            progress_bar_html = f\"\"\"\n",
        "            <div style=\"background-color: #e9ecef; border-radius: .25rem; height: 1rem; margin-top: 8px; overflow: hidden;\">\n",
        "                <div style=\"width: {confidence * 100}%; background-color: {progress_fill_color}; height: 100%;\">\n",
        "                </div>\n",
        "            </div>\n",
        "            \"\"\"\n",
        "            st.markdown(f\"\"\"\n",
        "            <div class=\"result-box {sentiment_class_bg}\">\n",
        "                <h2>{emoji} {sentiment_label}</h2>\n",
        "                <p style=\"margin-bottom: 2px;\">{confidence * 100:.2f}% Confidence</p>\n",
        "                {progress_bar_html}\n",
        "            </div>\n",
        "            \"\"\", unsafe_allow_html=True)\n",
        "        else:\n",
        "            st.markdown(f\"\"\"<div class=\"result-box\"><h3>Result</h3><p>Enter at least {MIN_WORDS_FOR_ANALYSIS} words to analyze</p></div>\"\"\", unsafe_allow_html=True)\n",
        "\n",
        "        # Analyze button below the result box\n",
        "        st.markdown('<div class=\"analyze-button-container\">', unsafe_allow_html=True)\n",
        "        st.button(\n",
        "            \"Analyze Sentiment\",\n",
        "            on_click=analyze_text,\n",
        "            use_container_width=True,\n",
        "            key=\"analyze_button\",\n",
        "            type=\"primary\",\n",
        "            disabled=st.session_state.model is None # Disable if model isn't loaded\n",
        "        )\n",
        "        st.markdown('</div>', unsafe_allow_html=True)\n",
        "\n",
        "st.markdown(\"---\")\n",
        "\n",
        "# --- Analysis History Section ---\n",
        "col_hist_header, col_reset_btn = st.columns([4, 1])\n",
        "with col_hist_header:\n",
        "    st.markdown(\"### Analysis History\")\n",
        "with col_reset_btn:\n",
        "    if st.session_state.analysis_history: # Show button only if there's history\n",
        "        st.button(\n",
        "            \"Clear History\",\n",
        "            on_click=reset_app,\n",
        "            key=\"reset_history_button\",\n",
        "            use_container_width=True\n",
        "        )\n",
        "\n",
        "if st.session_state.analysis_history:\n",
        "    history_items_html_list = []\n",
        "    for item in st.session_state.analysis_history:\n",
        "        text_content = str(item.get('text', ''))\n",
        "        sentiment_value = str(item.get('sentiment', 'N/A'))\n",
        "        confidence_value = item.get('confidence', 0.0)\n",
        "        try:\n",
        "            confidence_float = float(confidence_value)\n",
        "        except ValueError:\n",
        "            confidence_float = 0.0\n",
        "\n",
        "        emoji = \"😊\" if sentiment_value == \"POSITIVE\" else \"😞\"\n",
        "        bg_class = \"history-positive-bg\" if sentiment_value == \"POSITIVE\" else \"history-negative-bg\"\n",
        "        text_color_class = \"history-text-positive\" # Can be differentiated if needed\n",
        "\n",
        "        escaped_text = html.escape(text_content)\n",
        "        display_text_html = f'&quot;{escaped_text[:147]}...&quot;' if len(escaped_text) > 150 else f'&quot;{escaped_text}&quot;'\n",
        "        escaped_sentiment_text = html.escape(sentiment_value)\n",
        "        sentiment_display_html = f\"{emoji} {escaped_sentiment_text} ({confidence_float*100:.1f}%)\"\n",
        "\n",
        "        item_html_str = (\n",
        "            f'<div class=\"history-item {bg_class}\">'\n",
        "            f'<div class=\"history-text {text_color_class}\">{display_text_html}</div>'\n",
        "            f'<div class=\"history-sentiment\">{sentiment_display_html}</div>'\n",
        "            f'</div>'\n",
        "        )\n",
        "        history_items_html_list.append(item_html_str)\n",
        "\n",
        "    all_items_concatenated_html = \"\".join(history_items_html_list)\n",
        "    final_html_output_block = f'<div class=\"scrollable-history-box\">{all_items_concatenated_html}</div>'\n",
        "    st.markdown(final_html_output_block, unsafe_allow_html=True)\n",
        "else:\n",
        "    st.info(\"Analysis history is empty. Analyze some text to see results here.\")\n",
        "\n",
        "st.markdown(\"---\")\n",
        "\n",
        "# --- Team Members Section ---\n",
        "st.markdown(\"### Team Members\")\n",
        "\n",
        "num_team_columns = len(TEAM_MEMBERS)\n",
        "grid_cols = st.columns(num_team_columns)\n",
        "col_index = 0\n",
        "\n",
        "for member in TEAM_MEMBERS:\n",
        "    with grid_cols[col_index % num_team_columns]:\n",
        "        member_name = html.escape(member.get('name', 'N/A'))\n",
        "        member_id = html.escape(member.get('id', 'N/A'))\n",
        "        img_path = member.get(\"image\")\n",
        "        img_html = \"\"\n",
        "\n",
        "        if img_path:\n",
        "            base64_image = get_base64_of_img(str(img_path))\n",
        "            if base64_image:\n",
        "                img_html = f'<img src=\"data:image/jpeg;base64,{base64_image}\" class=\"team-member-img\" alt=\"{member_name}\">'\n",
        "            else:\n",
        "                img_html = '<div class=\"team-member-img-placeholder\">?</div>' # Placeholder if encoding fails\n",
        "        else:\n",
        "            img_html = '<div class=\"team-member-img-placeholder\">?</div>' # Placeholder if no image path\n",
        "\n",
        "        member_card_html = f\"\"\"\n",
        "        <div class=\"team-member-container\">\n",
        "            <div class=\"team-member-details\">\n",
        "                <div class=\"team-member-name\">{member_name}</div>\n",
        "                <div class=\"team-member-id\">{member_id}</div>\n",
        "            </div>\n",
        "            {img_html}\n",
        "        </div>\n",
        "        \"\"\"\n",
        "        st.markdown(member_card_html, unsafe_allow_html=True)\n",
        "    col_index += 1\n",
        "\n",
        "st.markdown(\"---\")\n",
        "\n",
        "# --- Footer ---\n",
        "st.markdown(\"<p style='text-align: center; color: grey;'>Assessment 3 | Final Project | Natural Language Processing</p>\", unsafe_allow_html=True)"
      ]
    },
    {
      "cell_type": "code",
      "execution_count": null,
      "metadata": {
        "id": "Q5nzwDD5VBJu"
      },
      "outputs": [],
      "source": [
        "import urllib\n",
        "print(\"Password/Enpoint IP for localtunnel is:\",urllib.request.urlopen('https://ipv4.icanhazip.com').read().decode('utf8').strip(\"\\n\"))"
      ]
    },
    {
      "cell_type": "code",
      "execution_count": null,
      "metadata": {
        "id": "-yupYH0qVBJu"
      },
      "outputs": [],
      "source": [
        "!streamlit run /content/app.py &>/content/logs.txt &"
      ]
    },
    {
      "cell_type": "code",
      "execution_count": null,
      "metadata": {
        "id": "BFuZ3goGPHcP"
      },
      "outputs": [],
      "source": [
        "!npx localtunnel --port 8501"
      ]
    }
  ],
  "metadata": {
    "accelerator": "GPU",
    "colab": {
      "gpuType": "T4",
      "provenance": [],
      "include_colab_link": true
    },
    "kernelspec": {
      "display_name": "jupyter_env",
      "language": "python",
      "name": "python3"
    },
    "language_info": {
      "codemirror_mode": {
        "name": "ipython",
        "version": 3
      },
      "file_extension": ".py",
      "mimetype": "text/x-python",
      "name": "python",
      "nbconvert_exporter": "python",
      "pygments_lexer": "ipython3",
      "version": "3.12.6"
    }
  },
  "nbformat": 4,
  "nbformat_minor": 0
}